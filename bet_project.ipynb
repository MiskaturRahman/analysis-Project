{
 "cells": [
  {
   "cell_type": "code",
   "execution_count": 1,
   "metadata": {},
   "outputs": [
    {
     "data": {
      "text/html": [
       "<div>\n",
       "<style scoped>\n",
       "    .dataframe tbody tr th:only-of-type {\n",
       "        vertical-align: middle;\n",
       "    }\n",
       "\n",
       "    .dataframe tbody tr th {\n",
       "        vertical-align: top;\n",
       "    }\n",
       "\n",
       "    .dataframe thead th {\n",
       "        text-align: right;\n",
       "    }\n",
       "</style>\n",
       "<table border=\"1\" class=\"dataframe\">\n",
       "  <thead>\n",
       "    <tr style=\"text-align: right;\">\n",
       "      <th></th>\n",
       "      <th>Season</th>\n",
       "      <th>Date</th>\n",
       "      <th>Time</th>\n",
       "      <th>League</th>\n",
       "      <th>Home Team</th>\n",
       "      <th>Away Team</th>\n",
       "      <th>Betfair Odds Home</th>\n",
       "      <th>Betfair Odds Draw</th>\n",
       "      <th>Betfair OddsAway</th>\n",
       "      <th>FTS Odds Home</th>\n",
       "      <th>...</th>\n",
       "      <th>Away.2</th>\n",
       "      <th>Home Pinn Diff</th>\n",
       "      <th>Draw Pinn Diff</th>\n",
       "      <th>Away Pinn Diff</th>\n",
       "      <th>Pinn Home BACK</th>\n",
       "      <th>Pinn Draw BACK</th>\n",
       "      <th>Pinn Away BACK</th>\n",
       "      <th>Pinn Home LAY</th>\n",
       "      <th>Pinn Draw LAY</th>\n",
       "      <th>Pinn Away LAY</th>\n",
       "    </tr>\n",
       "  </thead>\n",
       "  <tbody>\n",
       "    <tr>\n",
       "      <th>0</th>\n",
       "      <td>2012/2013</td>\n",
       "      <td>Saturday, August 18, 2012</td>\n",
       "      <td>3:00:00 PM</td>\n",
       "      <td>English Premier League</td>\n",
       "      <td>Arsenal</td>\n",
       "      <td>Sunderland</td>\n",
       "      <td>1.43</td>\n",
       "      <td>4.90</td>\n",
       "      <td>9.80</td>\n",
       "      <td>1.31</td>\n",
       "      <td>...</td>\n",
       "      <td>8.71</td>\n",
       "      <td>-0.49</td>\n",
       "      <td>0.78</td>\n",
       "      <td>1.28</td>\n",
       "      <td>-1.00</td>\n",
       "      <td>3.65</td>\n",
       "      <td>-1.00</td>\n",
       "      <td>0.98</td>\n",
       "      <td>-3.72</td>\n",
       "      <td>0.98</td>\n",
       "    </tr>\n",
       "    <tr>\n",
       "      <th>1</th>\n",
       "      <td>2012/2013</td>\n",
       "      <td>Saturday, August 18, 2012</td>\n",
       "      <td>12:00:00 AM</td>\n",
       "      <td>English Premier League</td>\n",
       "      <td>Fulham</td>\n",
       "      <td>Norwich</td>\n",
       "      <td>1.87</td>\n",
       "      <td>3.80</td>\n",
       "      <td>4.80</td>\n",
       "      <td>1.52</td>\n",
       "      <td>...</td>\n",
       "      <td>4.75</td>\n",
       "      <td>0.87</td>\n",
       "      <td>0.35</td>\n",
       "      <td>0.22</td>\n",
       "      <td>0.82</td>\n",
       "      <td>-1.00</td>\n",
       "      <td>-1.00</td>\n",
       "      <td>-0.84</td>\n",
       "      <td>0.98</td>\n",
       "      <td>0.98</td>\n",
       "    </tr>\n",
       "    <tr>\n",
       "      <th>2</th>\n",
       "      <td>2012/2013</td>\n",
       "      <td>Saturday, August 18, 2012</td>\n",
       "      <td>12:00:00 AM</td>\n",
       "      <td>English Premier League</td>\n",
       "      <td>QPR</td>\n",
       "      <td>Swansea</td>\n",
       "      <td>2.06</td>\n",
       "      <td>3.55</td>\n",
       "      <td>4.10</td>\n",
       "      <td>2.62</td>\n",
       "      <td>...</td>\n",
       "      <td>4.15</td>\n",
       "      <td>1.46</td>\n",
       "      <td>0.16</td>\n",
       "      <td>-0.29</td>\n",
       "      <td>-1.00</td>\n",
       "      <td>-1.00</td>\n",
       "      <td>3.09</td>\n",
       "      <td>0.98</td>\n",
       "      <td>0.98</td>\n",
       "      <td>-3.15</td>\n",
       "    </tr>\n",
       "    <tr>\n",
       "      <th>3</th>\n",
       "      <td>2012/2013</td>\n",
       "      <td>Saturday, August 18, 2012</td>\n",
       "      <td>12:00:00 AM</td>\n",
       "      <td>English Premier League</td>\n",
       "      <td>Reading</td>\n",
       "      <td>Stoke</td>\n",
       "      <td>2.44</td>\n",
       "      <td>3.40</td>\n",
       "      <td>3.35</td>\n",
       "      <td>2.70</td>\n",
       "      <td>...</td>\n",
       "      <td>3.22</td>\n",
       "      <td>-0.50</td>\n",
       "      <td>0.89</td>\n",
       "      <td>1.21</td>\n",
       "      <td>-1.00</td>\n",
       "      <td>2.25</td>\n",
       "      <td>-1.00</td>\n",
       "      <td>0.98</td>\n",
       "      <td>-2.30</td>\n",
       "      <td>0.98</td>\n",
       "    </tr>\n",
       "    <tr>\n",
       "      <th>4</th>\n",
       "      <td>2012/2013</td>\n",
       "      <td>Saturday, August 18, 2012</td>\n",
       "      <td>12:00:00 AM</td>\n",
       "      <td>English Premier League</td>\n",
       "      <td>West Brom</td>\n",
       "      <td>Liverpool</td>\n",
       "      <td>4.30</td>\n",
       "      <td>3.70</td>\n",
       "      <td>1.98</td>\n",
       "      <td>2.82</td>\n",
       "      <td>...</td>\n",
       "      <td>1.84</td>\n",
       "      <td>-2.25</td>\n",
       "      <td>-0.29</td>\n",
       "      <td>3.84</td>\n",
       "      <td>3.68</td>\n",
       "      <td>-1.00</td>\n",
       "      <td>-1.00</td>\n",
       "      <td>-3.76</td>\n",
       "      <td>0.98</td>\n",
       "      <td>0.98</td>\n",
       "    </tr>\n",
       "  </tbody>\n",
       "</table>\n",
       "<p>5 rows × 62 columns</p>\n",
       "</div>"
      ],
      "text/plain": [
       "      Season                       Date         Time                  League  \\\n",
       "0  2012/2013  Saturday, August 18, 2012   3:00:00 PM  English Premier League   \n",
       "1  2012/2013  Saturday, August 18, 2012  12:00:00 AM  English Premier League   \n",
       "2  2012/2013  Saturday, August 18, 2012  12:00:00 AM  English Premier League   \n",
       "3  2012/2013  Saturday, August 18, 2012  12:00:00 AM  English Premier League   \n",
       "4  2012/2013  Saturday, August 18, 2012  12:00:00 AM  English Premier League   \n",
       "\n",
       "   Home Team   Away Team  Betfair Odds Home  Betfair Odds Draw  \\\n",
       "0    Arsenal  Sunderland               1.43               4.90   \n",
       "1     Fulham     Norwich               1.87               3.80   \n",
       "2        QPR     Swansea               2.06               3.55   \n",
       "3    Reading       Stoke               2.44               3.40   \n",
       "4  West Brom   Liverpool               4.30               3.70   \n",
       "\n",
       "   Betfair OddsAway   FTS Odds Home  ...  Away.2  Home Pinn Diff  \\\n",
       "0               9.80           1.31  ...    8.71           -0.49   \n",
       "1               4.80           1.52  ...    4.75            0.87   \n",
       "2               4.10           2.62  ...    4.15            1.46   \n",
       "3               3.35           2.70  ...    3.22           -0.50   \n",
       "4               1.98           2.82  ...    1.84           -2.25   \n",
       "\n",
       "   Draw Pinn Diff  Away Pinn Diff  Pinn Home BACK  Pinn Draw BACK  \\\n",
       "0            0.78            1.28           -1.00            3.65   \n",
       "1            0.35            0.22            0.82           -1.00   \n",
       "2            0.16           -0.29           -1.00           -1.00   \n",
       "3            0.89            1.21           -1.00            2.25   \n",
       "4           -0.29            3.84            3.68           -1.00   \n",
       "\n",
       "   Pinn Away BACK   Pinn Home LAY  Pinn Draw LAY Pinn Away LAY  \n",
       "0           -1.00            0.98          -3.72          0.98  \n",
       "1           -1.00           -0.84           0.98          0.98  \n",
       "2            3.09            0.98           0.98         -3.15  \n",
       "3           -1.00            0.98          -2.30          0.98  \n",
       "4           -1.00           -3.76           0.98          0.98  \n",
       "\n",
       "[5 rows x 62 columns]"
      ]
     },
     "execution_count": 1,
     "metadata": {},
     "output_type": "execute_result"
    }
   ],
   "source": [
    "import pandas as pd\n",
    "\n",
    "# Load the dataset\n",
    "file_path = 'footballScores.csv'\n",
    "df = pd.read_csv(file_path)\n",
    "\n",
    "# Display the first few rows of the dataset\n",
    "df.head()\n"
   ]
  },
  {
   "cell_type": "markdown",
   "metadata": {},
   "source": [
    "# pre processing and data cleaning"
   ]
  },
  {
   "cell_type": "code",
   "execution_count": 2,
   "metadata": {
    "scrolled": true
   },
   "outputs": [
    {
     "name": "stdout",
     "output_type": "stream",
     "text": [
      "<class 'pandas.core.frame.DataFrame'>\n",
      "RangeIndex: 15906 entries, 0 to 15905\n",
      "Data columns (total 62 columns):\n",
      " #   Column             Non-Null Count  Dtype  \n",
      "---  ------             --------------  -----  \n",
      " 0   Season             15906 non-null  object \n",
      " 1   Date               15906 non-null  object \n",
      " 2   Time               15906 non-null  object \n",
      " 3   League             15906 non-null  object \n",
      " 4   Home Team          15906 non-null  object \n",
      " 5   Away Team          15906 non-null  object \n",
      " 6   Betfair Odds Home  15906 non-null  float64\n",
      " 7   Betfair Odds Draw  15906 non-null  float64\n",
      " 8   Betfair OddsAway   15906 non-null  float64\n",
      " 9   FTS Odds Home      15906 non-null  float64\n",
      " 10  FTS Odds Draw      15906 non-null  float64\n",
      " 11  FTS Odds Away      15906 non-null  float64\n",
      " 12  Home Difference    15906 non-null  float64\n",
      " 13  Draw Difference    15906 non-null  float64\n",
      " 14  Away Difference    15906 non-null  float64\n",
      " 15  HT Score Home      15904 non-null  float64\n",
      " 16  HT Score Away      15904 non-null  float64\n",
      " 17  FT Score Home      15906 non-null  int64  \n",
      " 18  FT Score Away      15906 non-null  int64  \n",
      " 19  FT1X2              15906 non-null  object \n",
      " 20  Home BACK          15906 non-null  float64\n",
      " 21  Draw BACK          15906 non-null  float64\n",
      " 22  Away BACK          15906 non-null  float64\n",
      " 23  Home LAY           15906 non-null  float64\n",
      " 24  Draw LAY           15906 non-null  float64\n",
      " 25  Away LAY           15906 non-null  float64\n",
      " 26  GP                 15906 non-null  int64  \n",
      " 27  W                  15906 non-null  int64  \n",
      " 28  D                  15906 non-null  int64  \n",
      " 29  L                  15906 non-null  int64  \n",
      " 30  Pts                15906 non-null  int64  \n",
      " 31  Ave                15048 non-null  float64\n",
      " 32  GP.1               15906 non-null  int64  \n",
      " 33  W.1                15906 non-null  int64  \n",
      " 34  D.1                15906 non-null  int64  \n",
      " 35  L.1                15906 non-null  int64  \n",
      " 36  Pts.1              15906 non-null  int64  \n",
      " 37  Ave.1              15048 non-null  float64\n",
      " 38  Unnamed: 38        0 non-null      float64\n",
      " 39  Colour Index       15906 non-null  object \n",
      " 40  Colour Index.1     15906 non-null  object \n",
      " 41  Home               15906 non-null  float64\n",
      " 42  Draw               15906 non-null  float64\n",
      " 43  Away               15906 non-null  float64\n",
      " 44  Home.1             15906 non-null  float64\n",
      " 45  Draw.1             15906 non-null  float64\n",
      " 46  Away.1             15906 non-null  float64\n",
      " 47  Home  v Draw       15906 non-null  float64\n",
      " 48  Home v Away        15906 non-null  float64\n",
      " 49  Away v Draw        15906 non-null  float64\n",
      " 50  Home.2             15902 non-null  float64\n",
      " 51  Draw.2             15902 non-null  float64\n",
      " 52  Away.2             15902 non-null  float64\n",
      " 53  Home Pinn Diff     15902 non-null  float64\n",
      " 54  Draw Pinn Diff     15902 non-null  float64\n",
      " 55  Away Pinn Diff     15902 non-null  float64\n",
      " 56  Pinn Home BACK     15905 non-null  float64\n",
      " 57  Pinn Draw BACK     15905 non-null  float64\n",
      " 58  Pinn Away BACK     15905 non-null  float64\n",
      " 59   Pinn Home LAY     15905 non-null  float64\n",
      " 60  Pinn Draw LAY      15905 non-null  float64\n",
      " 61  Pinn Away LAY      15905 non-null  float64\n",
      "dtypes: float64(41), int64(12), object(9)\n",
      "memory usage: 7.5+ MB\n"
     ]
    }
   ],
   "source": [
    "# Check for missing values\n",
    "missing_values = df.isnull().sum()\n",
    "\n",
    "# Check data types\n",
    "data_types = df.dtypes\n",
    "\n",
    "# Display dataset information\n",
    "dataset_info = df.info()\n"
   ]
  },
  {
   "cell_type": "code",
   "execution_count": 3,
   "metadata": {
    "scrolled": false
   },
   "outputs": [],
   "source": [
    "def custom_date_parser(date):\n",
    "    try:\n",
    "        return pd.to_datetime(date, errors='coerce')  # Coerce errors will set invalid dates to NaT\n",
    "    except ValueError:\n",
    "        return pd.NaT  # Return 'Not a Time' for unparseable formats\n",
    "\n",
    "df['Date'] = df['Date'].apply(custom_date_parser)\n"
   ]
  },
  {
   "cell_type": "code",
   "execution_count": 4,
   "metadata": {},
   "outputs": [
    {
     "data": {
      "text/plain": [
       "array(['2012-08-18T00:00:00.000000000', '2012-08-19T00:00:00.000000000',\n",
       "       '2012-08-20T00:00:00.000000000', ...,\n",
       "       '2022-05-20T00:00:00.000000000', '2022-05-21T00:00:00.000000000',\n",
       "       '2022-05-22T00:00:00.000000000'], dtype='datetime64[ns]')"
      ]
     },
     "execution_count": 4,
     "metadata": {},
     "output_type": "execute_result"
    }
   ],
   "source": [
    "# Display unique date values - modify as needed if the dataset is too large\n",
    "unique_dates = df['Date'].unique()\n",
    "unique_dates\n"
   ]
  },
  {
   "cell_type": "code",
   "execution_count": 5,
   "metadata": {},
   "outputs": [],
   "source": [
    "df['Time'] = pd.to_datetime(df['Time'], format='%I:%M:%S %p').dt.time\n"
   ]
  },
  {
   "cell_type": "code",
   "execution_count": 6,
   "metadata": {},
   "outputs": [],
   "source": [
    "# For numerical columns, you can fill with mean/median\n",
    "df['HT Score Home'].fillna(df['HT Score Home'].mean(), inplace=True)\n",
    "df['HT Score Away'].fillna(df['HT Score Away'].mean(), inplace=True)\n",
    "\n",
    "# Drop 'Unnamed: 38' as it's entirely null\n",
    "df.drop(columns=['Unnamed: 38'], inplace=True)\n"
   ]
  },
  {
   "cell_type": "code",
   "execution_count": 7,
   "metadata": {},
   "outputs": [],
   "source": [
    "# Check and remove duplicate rows if any\n",
    "duplicate_rows = df.duplicated().sum()\n",
    "df = df.drop_duplicates()\n"
   ]
  },
  {
   "cell_type": "code",
   "execution_count": 8,
   "metadata": {},
   "outputs": [],
   "source": [
    "# Imputation\n",
    "df['Ave'].fillna(df['Ave'].mean(), inplace=True)\n",
    "df['Ave.1'].fillna(df['Ave.1'].mean(), inplace=True)\n",
    "\n"
   ]
  },
  {
   "cell_type": "code",
   "execution_count": 9,
   "metadata": {},
   "outputs": [],
   "source": [
    "df = df.drop_duplicates()\n"
   ]
  },
  {
   "cell_type": "code",
   "execution_count": 10,
   "metadata": {},
   "outputs": [
    {
     "data": {
      "text/html": [
       "<div>\n",
       "<style scoped>\n",
       "    .dataframe tbody tr th:only-of-type {\n",
       "        vertical-align: middle;\n",
       "    }\n",
       "\n",
       "    .dataframe tbody tr th {\n",
       "        vertical-align: top;\n",
       "    }\n",
       "\n",
       "    .dataframe thead th {\n",
       "        text-align: right;\n",
       "    }\n",
       "</style>\n",
       "<table border=\"1\" class=\"dataframe\">\n",
       "  <thead>\n",
       "    <tr style=\"text-align: right;\">\n",
       "      <th></th>\n",
       "      <th>Season</th>\n",
       "      <th>Date</th>\n",
       "      <th>Time</th>\n",
       "      <th>League</th>\n",
       "      <th>Home Team</th>\n",
       "      <th>Away Team</th>\n",
       "      <th>Betfair Odds Home</th>\n",
       "      <th>Betfair Odds Draw</th>\n",
       "      <th>Betfair OddsAway</th>\n",
       "      <th>FTS Odds Home</th>\n",
       "      <th>...</th>\n",
       "      <th>Away.2</th>\n",
       "      <th>Home Pinn Diff</th>\n",
       "      <th>Draw Pinn Diff</th>\n",
       "      <th>Away Pinn Diff</th>\n",
       "      <th>Pinn Home BACK</th>\n",
       "      <th>Pinn Draw BACK</th>\n",
       "      <th>Pinn Away BACK</th>\n",
       "      <th>Pinn Home LAY</th>\n",
       "      <th>Pinn Draw LAY</th>\n",
       "      <th>Pinn Away LAY</th>\n",
       "    </tr>\n",
       "  </thead>\n",
       "  <tbody>\n",
       "    <tr>\n",
       "      <th>0</th>\n",
       "      <td>2012/2013</td>\n",
       "      <td>2012-08-18</td>\n",
       "      <td>15:00:00</td>\n",
       "      <td>English Premier League</td>\n",
       "      <td>Arsenal</td>\n",
       "      <td>Sunderland</td>\n",
       "      <td>1.43</td>\n",
       "      <td>4.90</td>\n",
       "      <td>9.80</td>\n",
       "      <td>1.31</td>\n",
       "      <td>...</td>\n",
       "      <td>8.71</td>\n",
       "      <td>-0.49</td>\n",
       "      <td>0.78</td>\n",
       "      <td>1.28</td>\n",
       "      <td>-1.00</td>\n",
       "      <td>3.65</td>\n",
       "      <td>-1.00</td>\n",
       "      <td>0.98</td>\n",
       "      <td>-3.72</td>\n",
       "      <td>0.98</td>\n",
       "    </tr>\n",
       "    <tr>\n",
       "      <th>1</th>\n",
       "      <td>2012/2013</td>\n",
       "      <td>2012-08-18</td>\n",
       "      <td>00:00:00</td>\n",
       "      <td>English Premier League</td>\n",
       "      <td>Fulham</td>\n",
       "      <td>Norwich</td>\n",
       "      <td>1.87</td>\n",
       "      <td>3.80</td>\n",
       "      <td>4.80</td>\n",
       "      <td>1.52</td>\n",
       "      <td>...</td>\n",
       "      <td>4.75</td>\n",
       "      <td>0.87</td>\n",
       "      <td>0.35</td>\n",
       "      <td>0.22</td>\n",
       "      <td>0.82</td>\n",
       "      <td>-1.00</td>\n",
       "      <td>-1.00</td>\n",
       "      <td>-0.84</td>\n",
       "      <td>0.98</td>\n",
       "      <td>0.98</td>\n",
       "    </tr>\n",
       "    <tr>\n",
       "      <th>2</th>\n",
       "      <td>2012/2013</td>\n",
       "      <td>2012-08-18</td>\n",
       "      <td>00:00:00</td>\n",
       "      <td>English Premier League</td>\n",
       "      <td>QPR</td>\n",
       "      <td>Swansea</td>\n",
       "      <td>2.06</td>\n",
       "      <td>3.55</td>\n",
       "      <td>4.10</td>\n",
       "      <td>2.62</td>\n",
       "      <td>...</td>\n",
       "      <td>4.15</td>\n",
       "      <td>1.46</td>\n",
       "      <td>0.16</td>\n",
       "      <td>-0.29</td>\n",
       "      <td>-1.00</td>\n",
       "      <td>-1.00</td>\n",
       "      <td>3.09</td>\n",
       "      <td>0.98</td>\n",
       "      <td>0.98</td>\n",
       "      <td>-3.15</td>\n",
       "    </tr>\n",
       "    <tr>\n",
       "      <th>3</th>\n",
       "      <td>2012/2013</td>\n",
       "      <td>2012-08-18</td>\n",
       "      <td>00:00:00</td>\n",
       "      <td>English Premier League</td>\n",
       "      <td>Reading</td>\n",
       "      <td>Stoke</td>\n",
       "      <td>2.44</td>\n",
       "      <td>3.40</td>\n",
       "      <td>3.35</td>\n",
       "      <td>2.70</td>\n",
       "      <td>...</td>\n",
       "      <td>3.22</td>\n",
       "      <td>-0.50</td>\n",
       "      <td>0.89</td>\n",
       "      <td>1.21</td>\n",
       "      <td>-1.00</td>\n",
       "      <td>2.25</td>\n",
       "      <td>-1.00</td>\n",
       "      <td>0.98</td>\n",
       "      <td>-2.30</td>\n",
       "      <td>0.98</td>\n",
       "    </tr>\n",
       "    <tr>\n",
       "      <th>4</th>\n",
       "      <td>2012/2013</td>\n",
       "      <td>2012-08-18</td>\n",
       "      <td>00:00:00</td>\n",
       "      <td>English Premier League</td>\n",
       "      <td>West Brom</td>\n",
       "      <td>Liverpool</td>\n",
       "      <td>4.30</td>\n",
       "      <td>3.70</td>\n",
       "      <td>1.98</td>\n",
       "      <td>2.82</td>\n",
       "      <td>...</td>\n",
       "      <td>1.84</td>\n",
       "      <td>-2.25</td>\n",
       "      <td>-0.29</td>\n",
       "      <td>3.84</td>\n",
       "      <td>3.68</td>\n",
       "      <td>-1.00</td>\n",
       "      <td>-1.00</td>\n",
       "      <td>-3.76</td>\n",
       "      <td>0.98</td>\n",
       "      <td>0.98</td>\n",
       "    </tr>\n",
       "  </tbody>\n",
       "</table>\n",
       "<p>5 rows × 61 columns</p>\n",
       "</div>"
      ],
      "text/plain": [
       "      Season       Date      Time                  League  Home Team  \\\n",
       "0  2012/2013 2012-08-18  15:00:00  English Premier League    Arsenal   \n",
       "1  2012/2013 2012-08-18  00:00:00  English Premier League     Fulham   \n",
       "2  2012/2013 2012-08-18  00:00:00  English Premier League        QPR   \n",
       "3  2012/2013 2012-08-18  00:00:00  English Premier League    Reading   \n",
       "4  2012/2013 2012-08-18  00:00:00  English Premier League  West Brom   \n",
       "\n",
       "    Away Team  Betfair Odds Home  Betfair Odds Draw  Betfair OddsAway   \\\n",
       "0  Sunderland               1.43               4.90               9.80   \n",
       "1     Norwich               1.87               3.80               4.80   \n",
       "2     Swansea               2.06               3.55               4.10   \n",
       "3       Stoke               2.44               3.40               3.35   \n",
       "4   Liverpool               4.30               3.70               1.98   \n",
       "\n",
       "   FTS Odds Home  ...  Away.2  Home Pinn Diff  Draw Pinn Diff  Away Pinn Diff  \\\n",
       "0           1.31  ...    8.71           -0.49            0.78            1.28   \n",
       "1           1.52  ...    4.75            0.87            0.35            0.22   \n",
       "2           2.62  ...    4.15            1.46            0.16           -0.29   \n",
       "3           2.70  ...    3.22           -0.50            0.89            1.21   \n",
       "4           2.82  ...    1.84           -2.25           -0.29            3.84   \n",
       "\n",
       "   Pinn Home BACK  Pinn Draw BACK  Pinn Away BACK   Pinn Home LAY  \\\n",
       "0           -1.00            3.65           -1.00            0.98   \n",
       "1            0.82           -1.00           -1.00           -0.84   \n",
       "2           -1.00           -1.00            3.09            0.98   \n",
       "3           -1.00            2.25           -1.00            0.98   \n",
       "4            3.68           -1.00           -1.00           -3.76   \n",
       "\n",
       "   Pinn Draw LAY Pinn Away LAY  \n",
       "0          -3.72          0.98  \n",
       "1           0.98          0.98  \n",
       "2           0.98         -3.15  \n",
       "3          -2.30          0.98  \n",
       "4           0.98          0.98  \n",
       "\n",
       "[5 rows x 61 columns]"
      ]
     },
     "execution_count": 10,
     "metadata": {},
     "output_type": "execute_result"
    }
   ],
   "source": [
    "df.head()"
   ]
  },
  {
   "cell_type": "code",
   "execution_count": 11,
   "metadata": {},
   "outputs": [
    {
     "data": {
      "text/html": [
       "<div>\n",
       "<style scoped>\n",
       "    .dataframe tbody tr th:only-of-type {\n",
       "        vertical-align: middle;\n",
       "    }\n",
       "\n",
       "    .dataframe tbody tr th {\n",
       "        vertical-align: top;\n",
       "    }\n",
       "\n",
       "    .dataframe thead th {\n",
       "        text-align: right;\n",
       "    }\n",
       "</style>\n",
       "<table border=\"1\" class=\"dataframe\">\n",
       "  <thead>\n",
       "    <tr style=\"text-align: right;\">\n",
       "      <th></th>\n",
       "      <th>Betfair Odds Home</th>\n",
       "      <th>Betfair Odds Draw</th>\n",
       "      <th>Betfair OddsAway</th>\n",
       "      <th>FTS Odds Home</th>\n",
       "      <th>FTS Odds Draw</th>\n",
       "      <th>FTS Odds Away</th>\n",
       "      <th>Home Difference</th>\n",
       "      <th>Draw Difference</th>\n",
       "      <th>Away Difference</th>\n",
       "      <th>HT Score Home</th>\n",
       "      <th>...</th>\n",
       "      <th>Away.2</th>\n",
       "      <th>Home Pinn Diff</th>\n",
       "      <th>Draw Pinn Diff</th>\n",
       "      <th>Away Pinn Diff</th>\n",
       "      <th>Pinn Home BACK</th>\n",
       "      <th>Pinn Draw BACK</th>\n",
       "      <th>Pinn Away BACK</th>\n",
       "      <th>Pinn Home LAY</th>\n",
       "      <th>Pinn Draw LAY</th>\n",
       "      <th>Pinn Away LAY</th>\n",
       "    </tr>\n",
       "  </thead>\n",
       "  <tbody>\n",
       "    <tr>\n",
       "      <th>count</th>\n",
       "      <td>15906.000000</td>\n",
       "      <td>15906.000000</td>\n",
       "      <td>15906.000000</td>\n",
       "      <td>15906.000000</td>\n",
       "      <td>15906.000000</td>\n",
       "      <td>15906.000000</td>\n",
       "      <td>15906.000000</td>\n",
       "      <td>15906.000000</td>\n",
       "      <td>15906.000000</td>\n",
       "      <td>15906.000000</td>\n",
       "      <td>...</td>\n",
       "      <td>15902.000000</td>\n",
       "      <td>15902.000000</td>\n",
       "      <td>15902.000000</td>\n",
       "      <td>15902.000000</td>\n",
       "      <td>15905.000000</td>\n",
       "      <td>15905.000000</td>\n",
       "      <td>15905.000000</td>\n",
       "      <td>15905.000000</td>\n",
       "      <td>15905.000000</td>\n",
       "      <td>15905.000000</td>\n",
       "    </tr>\n",
       "    <tr>\n",
       "      <th>mean</th>\n",
       "      <td>2.975968</td>\n",
       "      <td>4.334462</td>\n",
       "      <td>5.264247</td>\n",
       "      <td>3.012984</td>\n",
       "      <td>5.084292</td>\n",
       "      <td>5.845529</td>\n",
       "      <td>0.306523</td>\n",
       "      <td>-0.336198</td>\n",
       "      <td>-0.902394</td>\n",
       "      <td>0.693913</td>\n",
       "      <td>...</td>\n",
       "      <td>5.064735</td>\n",
       "      <td>0.536200</td>\n",
       "      <td>0.357668</td>\n",
       "      <td>0.384349</td>\n",
       "      <td>-0.030057</td>\n",
       "      <td>-0.050274</td>\n",
       "      <td>-0.052732</td>\n",
       "      <td>0.008529</td>\n",
       "      <td>0.020844</td>\n",
       "      <td>0.025763</td>\n",
       "    </tr>\n",
       "    <tr>\n",
       "      <th>std</th>\n",
       "      <td>2.393522</td>\n",
       "      <td>1.751880</td>\n",
       "      <td>5.548171</td>\n",
       "      <td>2.722890</td>\n",
       "      <td>3.533073</td>\n",
       "      <td>7.220145</td>\n",
       "      <td>11.449892</td>\n",
       "      <td>8.502643</td>\n",
       "      <td>10.277103</td>\n",
       "      <td>0.850022</td>\n",
       "      <td>...</td>\n",
       "      <td>4.817029</td>\n",
       "      <td>2.999173</td>\n",
       "      <td>1.485849</td>\n",
       "      <td>2.799639</td>\n",
       "      <td>1.360471</td>\n",
       "      <td>1.747706</td>\n",
       "      <td>1.917898</td>\n",
       "      <td>1.372381</td>\n",
       "      <td>1.766835</td>\n",
       "      <td>1.943130</td>\n",
       "    </tr>\n",
       "    <tr>\n",
       "      <th>min</th>\n",
       "      <td>1.050000</td>\n",
       "      <td>1.550000</td>\n",
       "      <td>1.100000</td>\n",
       "      <td>1.000000</td>\n",
       "      <td>1.250000</td>\n",
       "      <td>1.050000</td>\n",
       "      <td>-59.080000</td>\n",
       "      <td>-40.710000</td>\n",
       "      <td>-51.790000</td>\n",
       "      <td>0.000000</td>\n",
       "      <td>...</td>\n",
       "      <td>1.080000</td>\n",
       "      <td>-23.870000</td>\n",
       "      <td>-32.970000</td>\n",
       "      <td>-22.470000</td>\n",
       "      <td>-1.000000</td>\n",
       "      <td>-1.000000</td>\n",
       "      <td>-1.000000</td>\n",
       "      <td>-24.830000</td>\n",
       "      <td>-18.860000</td>\n",
       "      <td>-31.320000</td>\n",
       "    </tr>\n",
       "    <tr>\n",
       "      <th>25%</th>\n",
       "      <td>1.710000</td>\n",
       "      <td>3.500000</td>\n",
       "      <td>2.460000</td>\n",
       "      <td>1.700000</td>\n",
       "      <td>3.220000</td>\n",
       "      <td>2.500000</td>\n",
       "      <td>-6.760000</td>\n",
       "      <td>-5.970000</td>\n",
       "      <td>-7.090000</td>\n",
       "      <td>0.000000</td>\n",
       "      <td>...</td>\n",
       "      <td>2.410000</td>\n",
       "      <td>-1.280000</td>\n",
       "      <td>-0.460000</td>\n",
       "      <td>-1.190000</td>\n",
       "      <td>-1.000000</td>\n",
       "      <td>-1.000000</td>\n",
       "      <td>-1.000000</td>\n",
       "      <td>-0.750000</td>\n",
       "      <td>0.980000</td>\n",
       "      <td>-0.610000</td>\n",
       "    </tr>\n",
       "    <tr>\n",
       "      <th>50%</th>\n",
       "      <td>2.260000</td>\n",
       "      <td>3.750000</td>\n",
       "      <td>3.550000</td>\n",
       "      <td>2.240000</td>\n",
       "      <td>4.000000</td>\n",
       "      <td>3.780000</td>\n",
       "      <td>0.400000</td>\n",
       "      <td>-0.470000</td>\n",
       "      <td>-0.710000</td>\n",
       "      <td>0.000000</td>\n",
       "      <td>...</td>\n",
       "      <td>3.540000</td>\n",
       "      <td>0.520000</td>\n",
       "      <td>0.360000</td>\n",
       "      <td>0.390000</td>\n",
       "      <td>-1.000000</td>\n",
       "      <td>-1.000000</td>\n",
       "      <td>-1.000000</td>\n",
       "      <td>0.980000</td>\n",
       "      <td>0.980000</td>\n",
       "      <td>0.980000</td>\n",
       "    </tr>\n",
       "    <tr>\n",
       "      <th>75%</th>\n",
       "      <td>3.200000</td>\n",
       "      <td>4.500000</td>\n",
       "      <td>5.700000</td>\n",
       "      <td>3.200000</td>\n",
       "      <td>5.500000</td>\n",
       "      <td>6.000000</td>\n",
       "      <td>7.500000</td>\n",
       "      <td>4.827500</td>\n",
       "      <td>5.230000</td>\n",
       "      <td>1.000000</td>\n",
       "      <td>...</td>\n",
       "      <td>5.650000</td>\n",
       "      <td>2.340000</td>\n",
       "      <td>1.190000</td>\n",
       "      <td>1.960000</td>\n",
       "      <td>0.740000</td>\n",
       "      <td>-1.000000</td>\n",
       "      <td>0.600000</td>\n",
       "      <td>0.980000</td>\n",
       "      <td>0.980000</td>\n",
       "      <td>0.980000</td>\n",
       "    </tr>\n",
       "    <tr>\n",
       "      <th>max</th>\n",
       "      <td>38.000000</td>\n",
       "      <td>36.000000</td>\n",
       "      <td>75.000000</td>\n",
       "      <td>55.000000</td>\n",
       "      <td>65.000000</td>\n",
       "      <td>175.000000</td>\n",
       "      <td>53.030000</td>\n",
       "      <td>51.010000</td>\n",
       "      <td>52.010000</td>\n",
       "      <td>6.000000</td>\n",
       "      <td>...</td>\n",
       "      <td>51.000000</td>\n",
       "      <td>29.580000</td>\n",
       "      <td>10.820000</td>\n",
       "      <td>28.330000</td>\n",
       "      <td>24.330000</td>\n",
       "      <td>18.480000</td>\n",
       "      <td>30.690000</td>\n",
       "      <td>0.980000</td>\n",
       "      <td>0.980000</td>\n",
       "      <td>0.980000</td>\n",
       "    </tr>\n",
       "  </tbody>\n",
       "</table>\n",
       "<p>8 rows × 52 columns</p>\n",
       "</div>"
      ],
      "text/plain": [
       "       Betfair Odds Home  Betfair Odds Draw  Betfair OddsAway   FTS Odds Home  \\\n",
       "count       15906.000000       15906.000000       15906.000000   15906.000000   \n",
       "mean            2.975968           4.334462           5.264247       3.012984   \n",
       "std             2.393522           1.751880           5.548171       2.722890   \n",
       "min             1.050000           1.550000           1.100000       1.000000   \n",
       "25%             1.710000           3.500000           2.460000       1.700000   \n",
       "50%             2.260000           3.750000           3.550000       2.240000   \n",
       "75%             3.200000           4.500000           5.700000       3.200000   \n",
       "max            38.000000          36.000000          75.000000      55.000000   \n",
       "\n",
       "       FTS Odds Draw  FTS Odds Away   Home Difference  Draw Difference  \\\n",
       "count   15906.000000    15906.000000     15906.000000     15906.000000   \n",
       "mean        5.084292        5.845529         0.306523        -0.336198   \n",
       "std         3.533073        7.220145        11.449892         8.502643   \n",
       "min         1.250000        1.050000       -59.080000       -40.710000   \n",
       "25%         3.220000        2.500000        -6.760000        -5.970000   \n",
       "50%         4.000000        3.780000         0.400000        -0.470000   \n",
       "75%         5.500000        6.000000         7.500000         4.827500   \n",
       "max        65.000000      175.000000        53.030000        51.010000   \n",
       "\n",
       "       Away Difference  HT Score Home  ...        Away.2  Home Pinn Diff  \\\n",
       "count     15906.000000   15906.000000  ...  15902.000000    15902.000000   \n",
       "mean         -0.902394       0.693913  ...      5.064735        0.536200   \n",
       "std          10.277103       0.850022  ...      4.817029        2.999173   \n",
       "min         -51.790000       0.000000  ...      1.080000      -23.870000   \n",
       "25%          -7.090000       0.000000  ...      2.410000       -1.280000   \n",
       "50%          -0.710000       0.000000  ...      3.540000        0.520000   \n",
       "75%           5.230000       1.000000  ...      5.650000        2.340000   \n",
       "max          52.010000       6.000000  ...     51.000000       29.580000   \n",
       "\n",
       "       Draw Pinn Diff  Away Pinn Diff  Pinn Home BACK  Pinn Draw BACK  \\\n",
       "count    15902.000000    15902.000000    15905.000000    15905.000000   \n",
       "mean         0.357668        0.384349       -0.030057       -0.050274   \n",
       "std          1.485849        2.799639        1.360471        1.747706   \n",
       "min        -32.970000      -22.470000       -1.000000       -1.000000   \n",
       "25%         -0.460000       -1.190000       -1.000000       -1.000000   \n",
       "50%          0.360000        0.390000       -1.000000       -1.000000   \n",
       "75%          1.190000        1.960000        0.740000       -1.000000   \n",
       "max         10.820000       28.330000       24.330000       18.480000   \n",
       "\n",
       "       Pinn Away BACK   Pinn Home LAY  Pinn Draw LAY  Pinn Away LAY  \n",
       "count    15905.000000    15905.000000   15905.000000   15905.000000  \n",
       "mean        -0.052732        0.008529       0.020844       0.025763  \n",
       "std          1.917898        1.372381       1.766835       1.943130  \n",
       "min         -1.000000      -24.830000     -18.860000     -31.320000  \n",
       "25%         -1.000000       -0.750000       0.980000      -0.610000  \n",
       "50%         -1.000000        0.980000       0.980000       0.980000  \n",
       "75%          0.600000        0.980000       0.980000       0.980000  \n",
       "max         30.690000        0.980000       0.980000       0.980000  \n",
       "\n",
       "[8 rows x 52 columns]"
      ]
     },
     "execution_count": 11,
     "metadata": {},
     "output_type": "execute_result"
    }
   ],
   "source": [
    "summary_stats = df.describe()\n",
    "summary_stats"
   ]
  },
  {
   "cell_type": "code",
   "execution_count": 12,
   "metadata": {},
   "outputs": [
    {
     "data": {
      "image/png": "[encoded data removed]",
      "text/plain": [
       "<Figure size 432x288 with 1 Axes>"
      ]
     },
     "metadata": {
      "needs_background": "light"
     },
     "output_type": "display_data"
    }
   ],
   "source": [
    "import matplotlib.pyplot as plt\n",
    "import seaborn as sns\n",
    "\n",
    "sns.histplot(df['FT Score Home'], kde=True)\n",
    "sns.histplot(df['FT Score Away'], kde=True)\n",
    "plt.show()\n"
   ]
  },
  {
   "cell_type": "code",
   "execution_count": 13,
   "metadata": {},
   "outputs": [
    {
     "data": {
      "image/png": "[encoded data removed]",
      "text/plain": [
       "<Figure size 432x288 with 2 Axes>"
      ]
     },
     "metadata": {
      "needs_background": "light"
     },
     "output_type": "display_data"
    }
   ],
   "source": [
    "corr_matrix = df.corr()\n",
    "sns.heatmap(corr_matrix, annot=False)\n",
    "plt.show()\n"
   ]
  },
  {
   "cell_type": "code",
   "execution_count": 14,
   "metadata": {},
   "outputs": [
    {
     "data": {
      "image/png": "[encoded data removed]",
      "text/plain": [
       "<Figure size 432x288 with 1 Axes>"
      ]
     },
     "metadata": {
      "needs_background": "light"
     },
     "output_type": "display_data"
    }
   ],
   "source": [
    "sns.scatterplot(x='FT Score Home', y='Betfair Odds Home', data=df)\n",
    "plt.show()\n"
   ]
  },
  {
   "cell_type": "code",
   "execution_count": 15,
   "metadata": {},
   "outputs": [],
   "source": [
    "# Assuming 'Date' is already converted to datetime\n",
    "df['Year'] = df['Date'].dt.year\n",
    "df['Month'] = df['Date'].dt.month\n",
    "df['Day'] = df['Date'].dt.day\n",
    "df['Weekday'] = df['Date'].dt.weekday\n"
   ]
  },
  {
   "cell_type": "code",
   "execution_count": 16,
   "metadata": {},
   "outputs": [],
   "source": [
    "df['Home Team Wins'] = df.apply(lambda x: 1 if x['FT Score Home'] > x['FT Score Away'] else 0, axis=1)\n",
    "df['Away Team Wins'] = df.apply(lambda x: 1 if x['FT Score Away'] > x['FT Score Home'] else 0, axis=1)\n"
   ]
  },
  {
   "cell_type": "code",
   "execution_count": 17,
   "metadata": {},
   "outputs": [],
   "source": [
    "df['Implied Probability Home Win'] = 1 / df['Betfair Odds Home']\n",
    "df['Implied Probability Draw'] = 1 / df['Betfair Odds Draw']\n",
    "df['Implied Probability Away Win'] = 1 / df['Betfair OddsAway ']\n"
   ]
  },
  {
   "cell_type": "code",
   "execution_count": 18,
   "metadata": {},
   "outputs": [],
   "source": [
    "# Initialize columns for historical statistics\n",
    "df['HomeTeamWinStreak'] = 0\n",
    "df['AwayTeamWinStreak'] = 0\n",
    "df['HomeTeamGoalsScored'] = 0\n",
    "df['AwayTeamGoalsScored'] = 0\n",
    "df['HomeTeamGoalsConceded'] = 0\n",
    "df['AwayTeamGoalsConceded'] = 0\n",
    "\n",
    "# Define a dictionary to keep track of team statistics\n",
    "teams_stats = {}\n",
    "\n",
    "for i, row in df.iterrows():\n",
    "    home_team = row['Home']\n",
    "    away_team = row['Away']\n",
    "    \n",
    "    # Initialize the team stats if not already done\n",
    "    if home_team not in teams_stats:\n",
    "        teams_stats[home_team] = {'WinStreak': 0, 'GoalsScored': 0, 'GoalsConceded': 0}\n",
    "    if away_team not in teams_stats:\n",
    "        teams_stats[away_team] = {'WinStreak': 0, 'GoalsScored': 0, 'GoalsConceded': 0}\n",
    "    \n",
    "    # Get historical stats for the teams involved in the match\n",
    "    df.at[i, 'HomeTeamWinStreak'] = teams_stats[home_team]['WinStreak']\n",
    "    df.at[i, 'AwayTeamWinStreak'] = teams_stats[away_team]['WinStreak']\n",
    "    df.at[i, 'HomeTeamGoalsScored'] = teams_stats[home_team]['GoalsScored']\n",
    "    df.at[i, 'AwayTeamGoalsScored'] = teams_stats[away_team]['GoalsScored']\n",
    "    df.at[i, 'HomeTeamGoalsConceded'] = teams_stats[home_team]['GoalsConceded']\n",
    "    df.at[i, 'AwayTeamGoalsConceded'] = teams_stats[away_team]['GoalsConceded']\n",
    "    \n",
    "    # Update team stats\n",
    "    if row['FT Score Home'] > row['FT Score Away']:\n",
    "        teams_stats[home_team]['WinStreak'] += 1\n",
    "        teams_stats[away_team]['WinStreak'] = 0\n",
    "    elif row['FT Score Home'] < row['FT Score Away']:\n",
    "        teams_stats[away_team]['WinStreak'] += 1\n",
    "        teams_stats[home_team]['WinStreak'] = 0\n",
    "    else:\n",
    "        teams_stats[home_team]['WinStreak'] = 0\n",
    "        teams_stats[away_team]['WinStreak'] = 0\n",
    "        \n",
    "    teams_stats[home_team]['GoalsScored'] += row['FT Score Home']\n",
    "    teams_stats[home_team]['GoalsConceded'] += row['FT Score Away']\n",
    "    teams_stats[away_team]['GoalsScored'] += row['FT Score Away']\n",
    "    teams_stats[away_team]['GoalsConceded'] += row['FT Score Home']\n"
   ]
  },
  {
   "cell_type": "code",
   "execution_count": 19,
   "metadata": {},
   "outputs": [
    {
     "data": {
      "text/plain": [
       "['Season',\n",
       " 'Date',\n",
       " 'Time',\n",
       " 'League',\n",
       " 'Home Team',\n",
       " 'Away Team',\n",
       " 'Betfair Odds Home',\n",
       " 'Betfair Odds Draw',\n",
       " 'Betfair OddsAway ',\n",
       " 'FTS Odds Home',\n",
       " 'FTS Odds Draw',\n",
       " 'FTS Odds Away ',\n",
       " 'Home Difference',\n",
       " 'Draw Difference',\n",
       " 'Away Difference',\n",
       " 'HT Score Home',\n",
       " 'HT Score Away',\n",
       " 'FT Score Home',\n",
       " 'FT Score Away',\n",
       " 'FT1X2',\n",
       " 'Home BACK',\n",
       " 'Draw BACK',\n",
       " 'Away BACK',\n",
       " 'Home LAY',\n",
       " 'Draw LAY',\n",
       " 'Away LAY',\n",
       " 'GP',\n",
       " 'W',\n",
       " 'D',\n",
       " 'L',\n",
       " 'Pts',\n",
       " 'Ave',\n",
       " 'GP.1',\n",
       " 'W.1',\n",
       " 'D.1',\n",
       " 'L.1',\n",
       " 'Pts.1',\n",
       " 'Ave.1',\n",
       " 'Colour Index',\n",
       " 'Colour Index.1',\n",
       " 'Home',\n",
       " 'Draw',\n",
       " 'Away',\n",
       " 'Home.1',\n",
       " 'Draw.1',\n",
       " 'Away.1',\n",
       " 'Home  v Draw',\n",
       " 'Home v Away',\n",
       " 'Away v Draw',\n",
       " 'Home.2',\n",
       " 'Draw.2',\n",
       " 'Away.2',\n",
       " 'Home Pinn Diff',\n",
       " 'Draw Pinn Diff',\n",
       " 'Away Pinn Diff',\n",
       " 'Pinn Home BACK',\n",
       " 'Pinn Draw BACK',\n",
       " 'Pinn Away BACK',\n",
       " ' Pinn Home LAY',\n",
       " 'Pinn Draw LAY',\n",
       " 'Pinn Away LAY',\n",
       " 'Year',\n",
       " 'Month',\n",
       " 'Day',\n",
       " 'Weekday',\n",
       " 'Home Team Wins',\n",
       " 'Away Team Wins',\n",
       " 'Implied Probability Home Win',\n",
       " 'Implied Probability Draw',\n",
       " 'Implied Probability Away Win',\n",
       " 'HomeTeamWinStreak',\n",
       " 'AwayTeamWinStreak',\n",
       " 'HomeTeamGoalsScored',\n",
       " 'AwayTeamGoalsScored',\n",
       " 'HomeTeamGoalsConceded',\n",
       " 'AwayTeamGoalsConceded']"
      ]
     },
     "execution_count": 19,
     "metadata": {},
     "output_type": "execute_result"
    }
   ],
   "source": [
    "list(df)"
   ]
  },
  {
   "cell_type": "code",
   "execution_count": 20,
   "metadata": {},
   "outputs": [],
   "source": [
    "# Convert season to the start year (or end year, depending on your preference)\n",
    "df['Season'] = df['Season'].apply(lambda x: int(x.split('/')[0]))\n"
   ]
  },
  {
   "cell_type": "code",
   "execution_count": 21,
   "metadata": {},
   "outputs": [],
   "source": [
    "# Convert 'Date' to datetime\n",
    "df['Date'] = pd.to_datetime(df['Date'])\n",
    "\n",
    "# Extract parts of the dates\n",
    "df['Year'] = df['Date'].dt.year\n",
    "df['Month'] = df['Date'].dt.month\n",
    "df['Day'] = df['Date'].dt.day\n"
   ]
  },
  {
   "cell_type": "code",
   "execution_count": 22,
   "metadata": {},
   "outputs": [
    {
     "name": "stdout",
     "output_type": "stream",
     "text": [
      "           Feature         Score\n",
      "54  Home Team Wins  3.903913e+16\n",
      "14        Home LAY  1.875941e+08\n",
      "44  Pinn Home BACK  4.533066e+03\n",
      "47   Pinn Home LAY  4.436531e+03\n",
      "31            Away  2.153485e+02\n",
      "..             ...           ...\n",
      "25             D.1  9.416842e-01\n",
      "51           Month  9.168513e-01\n",
      "23            GP.1  8.844112e-01\n",
      "17              GP  8.748588e-01\n",
      "53         Weekday  7.468171e-01\n",
      "\n",
      "[65 rows x 2 columns]\n"
     ]
    }
   ],
   "source": [
    "import pandas as pd\n",
    "import numpy as np\n",
    "from sklearn.model_selection import train_test_split\n",
    "from sklearn.feature_selection import SelectKBest, f_classif\n",
    "from sklearn.preprocessing import StandardScaler\n",
    "\n",
    "# Assuming 'df' is your DataFrame\n",
    "\n",
    "# Define features and target\n",
    "exclude_columns = ['Date', 'Time', 'FT1X2', 'Colour Index', 'Colour Index.1']  # Non-numeric and target columns\n",
    "X = df.drop(columns=exclude_columns + ['Home BACK', 'Draw BACK', 'Away BACK'])  # Exclude target variables for X\n",
    "y_home_back = df['Home BACK']  # Target variable\n",
    "\n",
    "# Handle NaN and infinite values in features\n",
    "X = X.select_dtypes(include=[np.number])  # Select only numeric columns\n",
    "X.replace([np.inf, -np.inf], np.nan, inplace=True)  # Replace inf with NaN\n",
    "X.fillna(X.mean(), inplace=True)  # Fill NaN with column mean\n",
    "\n",
    "# Handle NaN and infinite values in the target\n",
    "y_home_back.replace([np.inf, -np.inf], np.nan, inplace=True)  # Replace inf with NaN\n",
    "y_home_back.fillna(y_home_back.mean(), inplace=True)  # Fill NaN with mean\n",
    "\n",
    "# Split the dataset into training and test sets\n",
    "X_train, X_test, y_train_home_back, y_test_home_back = train_test_split(X, y_home_back, test_size=0.3, random_state=42)\n",
    "\n",
    "# Ensure no NaN or infinite values are present in the numeric columns\n",
    "assert not X_train.isnull().values.any(), \"NaN values found in X_train\"\n",
    "assert not np.isinf(X_train.values).any(), \"Infinite values found in X_train\"\n",
    "\n",
    "# Standardize the features\n",
    "scaler = StandardScaler()\n",
    "X_train_scaled = scaler.fit_transform(X_train)\n",
    "X_test_scaled = scaler.transform(X_test)\n",
    "\n",
    "# Feature Selection\n",
    "bestfeatures_home_back = SelectKBest(score_func=f_classif, k='all')  # 'all' to select based on all features\n",
    "fit_home_back = bestfeatures_home_back.fit(X_train_scaled, y_train_home_back)\n",
    "\n",
    "# Extract feature scores\n",
    "dfscores_home_back = pd.DataFrame(fit_home_back.scores_)\n",
    "dfcolumns = pd.DataFrame(X_train.columns)\n",
    "\n",
    "# Combine the scores and columns into a single DataFrame\n",
    "featureScores_home_back = pd.concat([dfcolumns, dfscores_home_back], axis=1)\n",
    "featureScores_home_back.columns = ['Feature', 'Score']  # Naming the dataframe columns\n",
    "\n",
    "# Sort the DataFrame by the Score in descending order\n",
    "featureScores_home_back = featureScores_home_back.sort_values(by='Score', ascending=False)\n",
    "\n",
    "# Print the sorted feature scores\n",
    "print(featureScores_home_back)\n"
   ]
  },
  {
   "cell_type": "code",
   "execution_count": 23,
   "metadata": {},
   "outputs": [
    {
     "name": "stdout",
     "output_type": "stream",
     "text": [
      "Mean Squared Error: 3.7102209446108507e-06\n",
      "R^2 Score: 0.9999980835547089\n"
     ]
    }
   ],
   "source": [
    "from sklearn.linear_model import LinearRegression\n",
    "from sklearn.metrics import mean_squared_error, r2_score\n",
    "from sklearn.preprocessing import StandardScaler\n",
    "\n",
    "# Standardize the features\n",
    "scaler = StandardScaler()\n",
    "X_train_scaled = scaler.fit_transform(X_train)\n",
    "X_test_scaled = scaler.transform(X_test)\n",
    "\n",
    "# Create a linear regression model\n",
    "model = LinearRegression()\n",
    "\n",
    "# Fit the model to the training data\n",
    "model.fit(X_train_scaled, y_train_home_back)\n",
    "\n",
    "# Make predictions on the test set\n",
    "y_pred = model.predict(X_test_scaled)\n",
    "\n",
    "# Evaluate the model\n",
    "mse = mean_squared_error(y_test_home_back, y_pred)\n",
    "r2 = r2_score(y_test_home_back, y_pred)\n",
    "print(f\"Mean Squared Error: {mse}\")\n",
    "print(f\"R^2 Score: {r2}\")\n"
   ]
  },
  {
   "cell_type": "code",
   "execution_count": 24,
   "metadata": {},
   "outputs": [
    {
     "name": "stdout",
     "output_type": "stream",
     "text": [
      "Cross-validated R^2 scores: [0.99999788 0.9999978  0.99999812 0.99999815 0.99999663]\n",
      "Mean R^2 score: 0.9999977168972961\n"
     ]
    }
   ],
   "source": [
    "from sklearn.model_selection import cross_val_score\n",
    "from sklearn.linear_model import LinearRegression\n",
    "\n",
    "# Ensure your features and target variable are correctly defined and preprocessed\n",
    "X_scaled = scaler.fit_transform(X)  # Assuming X is already defined and excludes any target or leaky features\n",
    "y_home_back = df['Home BACK']       # Assuming y_home_back is correctly defined\n",
    "\n",
    "# Perform 5-fold cross-validation\n",
    "cv_scores = cross_val_score(LinearRegression(), X_scaled, y_home_back, cv=5, scoring='r2')\n",
    "\n",
    "print(\"Cross-validated R^2 scores:\", cv_scores)\n",
    "print(\"Mean R^2 score:\", cv_scores.mean())\n"
   ]
  },
  {
   "cell_type": "code",
   "execution_count": 25,
   "metadata": {},
   "outputs": [
    {
     "name": "stdout",
     "output_type": "stream",
     "text": [
      "Temporal Validation - Mean Squared Error: 5.317114637323577e-06\n",
      "Temporal Validation - R^2 Score: 0.9999973167925313\n"
     ]
    }
   ],
   "source": [
    "# Assuming your dataset 'df' has a 'Date' column in datetime format and is sorted\n",
    "split_index = int(len(df) * 0.7)  # 70% for training\n",
    "\n",
    "# Splitting the dataset based on the index\n",
    "X_train_temporal = X_scaled[:split_index]\n",
    "X_test_temporal = X_scaled[split_index:]\n",
    "y_train_temporal = y_home_back[:split_index]\n",
    "y_test_temporal = y_home_back[split_index:]\n",
    "\n",
    "# Fit the model on the training set\n",
    "model_temporal = LinearRegression()\n",
    "model_temporal.fit(X_train_temporal, y_train_temporal)\n",
    "\n",
    "# Predict on the test set\n",
    "y_pred_temporal = model_temporal.predict(X_test_temporal)\n",
    "\n",
    "# Evaluate the model\n",
    "mse_temporal = mean_squared_error(y_test_temporal, y_pred_temporal)\n",
    "r2_temporal = r2_score(y_test_temporal, y_pred_temporal)\n",
    "\n",
    "print(f\"Temporal Validation - Mean Squared Error: {mse_temporal}\")\n",
    "print(f\"Temporal Validation - R^2 Score: {r2_temporal}\")\n"
   ]
  },
  {
   "cell_type": "code",
   "execution_count": 26,
   "metadata": {},
   "outputs": [
    {
     "name": "stdout",
     "output_type": "stream",
     "text": [
      "Cross-validated R^2 scores: [0.99999788 0.9999978  0.99999812 0.99999815 0.99999663]\n",
      "Mean R^2 score: 0.9999977168972961\n",
      "Temporal Validation - R^2 Score: 0.9999973167925313\n"
     ]
    }
   ],
   "source": [
    "from sklearn.model_selection import cross_val_score\n",
    "from sklearn.linear_model import LinearRegression\n",
    "\n",
    "# Cross-validation\n",
    "cv_scores = cross_val_score(LinearRegression(), X_scaled, y_home_back, cv=5, scoring='r2')\n",
    "print(\"Cross-validated R^2 scores:\", cv_scores)\n",
    "print(\"Mean R^2 score:\", cv_scores.mean())\n",
    "\n",
    "# Temporal validation (assuming temporal split has been done)\n",
    "model = LinearRegression()\n",
    "model.fit(X_train_temporal, y_train_temporal)\n",
    "y_pred_temporal = model.predict(X_test_temporal)\n",
    "print(\"Temporal Validation - R^2 Score:\", r2_score(y_test_temporal, y_pred_temporal))\n"
   ]
  },
  {
   "cell_type": "code",
   "execution_count": 27,
   "metadata": {},
   "outputs": [
    {
     "name": "stdout",
     "output_type": "stream",
     "text": [
      "Corrected training set size: (13014, 76)\n",
      "Corrected testing set size: (2892, 76)\n"
     ]
    }
   ],
   "source": [
    "# Adjusting the splitting conditions to match the 'Season' format in the dataset\n",
    "train_df = df[df['Season'].astype(int) <= 2020]  # Training data up to and including the 2020 season\n",
    "test_df = df[df['Season'].isin(['2021', '2022'])]  # Testing data for the 2021 and 2022 seasons\n",
    "\n",
    "# Verify the sizes again to ensure correctness\n",
    "print(f\"Corrected training set size: {train_df.shape}\")\n",
    "print(f\"Corrected testing set size: {test_df.shape}\")\n"
   ]
  },
  {
   "cell_type": "code",
   "execution_count": 28,
   "metadata": {},
   "outputs": [],
   "source": [
    "# Fill NaN values in the original dataframes before scaling\n",
    "X_train_filled = X_train.fillna(X_train.mean())\n",
    "X_test_filled = X_test.fillna(X_test.mean())\n",
    "\n",
    "# Replace infinity values with NaN, then fill them\n",
    "X_train_filled.replace([np.inf, -np.inf], np.nan, inplace=True)\n",
    "X_train_filled.fillna(X_train_filled.mean(), inplace=True)\n",
    "\n",
    "X_test_filled.replace([np.inf, -np.inf], np.nan, inplace=True)\n",
    "X_test_filled.fillna(X_test_filled.mean(), inplace=True)\n",
    "\n",
    "# Now, apply the scaler\n",
    "scaler = StandardScaler()\n",
    "X_train_scaled = scaler.fit_transform(X_train_filled)\n",
    "X_test_scaled = scaler.transform(X_test_filled)\n"
   ]
  },
  {
   "cell_type": "code",
   "execution_count": 29,
   "metadata": {},
   "outputs": [],
   "source": [
    "assert not np.isnan(X_train_scaled).any(), \"NaN values found in X_train_scaled\"\n",
    "assert not np.isinf(X_train_scaled).any(), \"Infinity values found in X_train_scaled\"\n",
    "\n",
    "assert not np.isnan(X_test_scaled).any(), \"NaN values found in X_test_scaled\"\n",
    "assert not np.isinf(X_test_scaled).any(), \"Infinity values found in X_test_scaled\"\n"
   ]
  },
  {
   "cell_type": "code",
   "execution_count": 30,
   "metadata": {},
   "outputs": [
    {
     "name": "stdout",
     "output_type": "stream",
     "text": [
      "Mean Squared Error: 3.7102209446108507e-06\n",
      "R^2 Score: 0.9999980835547089\n"
     ]
    }
   ],
   "source": [
    "model = LinearRegression()\n",
    "model.fit(X_train_scaled, y_train_home_back)\n",
    "\n",
    "# Make predictions on the test set\n",
    "y_pred = model.predict(X_test_scaled)\n",
    "\n",
    "# Evaluate the model\n",
    "mse = mean_squared_error(y_test_home_back, y_pred)\n",
    "r2 = r2_score(y_test_home_back, y_pred)\n",
    "\n",
    "print(f\"Mean Squared Error: {mse}\")\n",
    "print(f\"R^2 Score: {r2}\")\n"
   ]
  },
  {
   "cell_type": "code",
   "execution_count": 31,
   "metadata": {
    "scrolled": true
   },
   "outputs": [
    {
     "data": {
      "text/plain": [
       "array(['Season', 'Date', 'Time', 'League', 'Home Team', 'Away Team',\n",
       "       'Betfair Odds Home', 'Betfair Odds Draw', 'Betfair OddsAway ',\n",
       "       'FTS Odds Home', 'FTS Odds Draw', 'FTS Odds Away ',\n",
       "       'Home Difference', 'Draw Difference', 'Away Difference',\n",
       "       'HT Score Home', 'HT Score Away', 'FT Score Home', 'FT Score Away',\n",
       "       'FT1X2', 'Home BACK', 'Draw BACK', 'Away BACK', 'Home LAY',\n",
       "       'Draw LAY', 'Away LAY', 'GP', 'W', 'D', 'L', 'Pts', 'Ave', 'GP.1',\n",
       "       'W.1', 'D.1', 'L.1', 'Pts.1', 'Ave.1', 'Colour Index',\n",
       "       'Colour Index.1', 'Home', 'Draw', 'Away', 'Home.1', 'Draw.1',\n",
       "       'Away.1', 'Home  v Draw', 'Home v Away', 'Away v Draw', 'Home.2',\n",
       "       'Draw.2', 'Away.2', 'Home Pinn Diff', 'Draw Pinn Diff',\n",
       "       'Away Pinn Diff', 'Pinn Home BACK', 'Pinn Draw BACK',\n",
       "       'Pinn Away BACK', ' Pinn Home LAY', 'Pinn Draw LAY',\n",
       "       'Pinn Away LAY', 'Year', 'Month', 'Day', 'Weekday',\n",
       "       'Home Team Wins', 'Away Team Wins', 'Implied Probability Home Win',\n",
       "       'Implied Probability Draw', 'Implied Probability Away Win',\n",
       "       'HomeTeamWinStreak', 'AwayTeamWinStreak', 'HomeTeamGoalsScored',\n",
       "       'AwayTeamGoalsScored', 'HomeTeamGoalsConceded',\n",
       "       'AwayTeamGoalsConceded'], dtype=object)"
      ]
     },
     "execution_count": 31,
     "metadata": {},
     "output_type": "execute_result"
    }
   ],
   "source": [
    "df.columns.values"
   ]
  },
  {
   "cell_type": "code",
   "execution_count": 32,
   "metadata": {},
   "outputs": [
    {
     "name": "stdout",
     "output_type": "stream",
     "text": [
      "Best parameters: {'alpha': 0.1}\n",
      "Best score: 0.9999980228426931\n",
      "Test MSE: 3.7174458265830756e-06\n",
      "Test R^2 Score: 0.9999980798228311\n"
     ]
    }
   ],
   "source": [
    "from sklearn.linear_model import Ridge\n",
    "from sklearn.model_selection import GridSearchCV\n",
    "\n",
    "# Define a range of alpha values for Ridge Regression\n",
    "parameters = {'alpha': [0.1, 1, 10, 100, 1000]}\n",
    "\n",
    "ridge = Ridge()\n",
    "model = GridSearchCV(ridge, parameters, scoring='r2', cv=5)\n",
    "model.fit(X_train_scaled, y_train_home_back)\n",
    "\n",
    "print(\"Best parameters:\", model.best_params_)\n",
    "print(\"Best score:\", model.best_score_)\n",
    "\n",
    "# Evaluate on the test set\n",
    "y_pred = model.predict(X_test_scaled)\n",
    "mse = mean_squared_error(y_test_home_back, y_pred)\n",
    "r2 = r2_score(y_test_home_back, y_pred)\n",
    "\n",
    "print(f\"Test MSE: {mse}\")\n",
    "print(f\"Test R^2 Score: {r2}\")\n"
   ]
  },
  {
   "cell_type": "code",
   "execution_count": 33,
   "metadata": {},
   "outputs": [],
   "source": [
    "from sklearn.preprocessing import PolynomialFeatures\n",
    "\n",
    "# Assuming X_train_scaled and X_test_scaled are your feature sets\n",
    "poly = PolynomialFeatures(degree=2, include_bias=False)\n",
    "X_train_poly = poly.fit_transform(X_train_scaled)\n",
    "X_test_poly = poly.transform(X_test_scaled)\n"
   ]
  },
  {
   "cell_type": "code",
   "execution_count": 34,
   "metadata": {},
   "outputs": [
    {
     "name": "stdout",
     "output_type": "stream",
     "text": [
      "Cross-validated R^2 scores: [0.99999432 0.99997074 0.99969718 0.999993   0.99971283 0.99999379\n",
      " 0.99999297 0.99999416 0.99986489 0.99998294]\n",
      "Mean R^2 score: 0.9999196811502256\n"
     ]
    }
   ],
   "source": [
    "from sklearn.model_selection import cross_val_score, KFold\n",
    "\n",
    "# Using Ridge as an example model\n",
    "model = Ridge(alpha=1.0)\n",
    "\n",
    "# Perform 10-fold cross-validation\n",
    "kf = KFold(n_splits=10, shuffle=True, random_state=42)\n",
    "cv_scores = cross_val_score(model, X_train_poly, y_train_home_back, cv=kf, scoring='r2')\n",
    "\n",
    "print(\"Cross-validated R^2 scores:\", cv_scores)\n",
    "print(\"Mean R^2 score:\", cv_scores.mean())\n"
   ]
  },
  {
   "cell_type": "code",
   "execution_count": 35,
   "metadata": {},
   "outputs": [],
   "source": [
    "import pandas as pd\n",
    "from sklearn.preprocessing import StandardScaler\n",
    "\n",
    "# Load external data\n",
    "external_df = pd.read_csv('2023-2024.csv')\n",
    "\n",
    "# Exclude 'Season' before any processing that involves numeric operations\n",
    "external_df.drop(columns=['Season'], inplace=True, errors='ignore')\n",
    "\n",
    "# Fill missing values\n",
    "numeric_columns = external_df.select_dtypes(include=['float64', 'int64']).columns\n",
    "external_df[numeric_columns] = external_df[numeric_columns].fillna(external_df[numeric_columns].mean())\n",
    "\n",
    "# One-hot encode categorical variables\n",
    "categorical_columns = ['League', 'Home Team', 'Away Team']  # Adjust as needed\n",
    "external_df_encoded = pd.get_dummies(external_df, columns=categorical_columns, drop_first=True)\n",
    "\n",
    "# Align external_df_encoded with the model's feature set\n",
    "missing_cols = set(X_train.columns) - set(external_df_encoded.columns)\n",
    "for c in missing_cols:\n",
    "    external_df_encoded[c] = 0\n",
    "external_df_encoded = external_df_encoded[X_train.columns]\n",
    "\n",
    "# Scale features\n",
    "scaler = StandardScaler()\n",
    "X_external_scaled = scaler.fit_transform(external_df_encoded)\n",
    "\n"
   ]
  },
  {
   "cell_type": "code",
   "execution_count": 36,
   "metadata": {},
   "outputs": [
    {
     "data": {
      "text/plain": [
       "GridSearchCV(cv=5, estimator=Ridge(),\n",
       "             param_grid={'alpha': [0.1, 1, 10, 100, 1000]}, scoring='r2')"
      ]
     },
     "execution_count": 36,
     "metadata": {},
     "output_type": "execute_result"
    }
   ],
   "source": [
    "# Assuming X_train_scaled and y_train_home_back are defined and prepared\n",
    "from sklearn.linear_model import Ridge\n",
    "from sklearn.model_selection import GridSearchCV\n",
    "\n",
    "parameters = {'alpha': [0.1, 1, 10, 100, 1000]}\n",
    "ridge = Ridge()\n",
    "model = GridSearchCV(ridge, parameters, scoring='r2', cv=5)\n",
    "model.fit(X_train_scaled, y_train_home_back)\n",
    "\n",
    "# Now model is fitted and can be used for predictions\n"
   ]
  },
  {
   "cell_type": "code",
   "execution_count": 37,
   "metadata": {},
   "outputs": [],
   "source": [
    "import joblib\n",
    "\n",
    "# Save the model to disk\n",
    "joblib.dump(model, 'ridge_model.pkl')\n",
    "\n",
    "# Later or elsewhere, load the fitted model from disk\n",
    "model = joblib.load('ridge_model.pkl')\n"
   ]
  },
  {
   "cell_type": "code",
   "execution_count": 38,
   "metadata": {},
   "outputs": [
    {
     "name": "stdout",
     "output_type": "stream",
     "text": [
      "External MSE: 0.010074705468004907\n",
      "External R^2 Score: 0.9936347849953646\n"
     ]
    }
   ],
   "source": [
    "# Assuming X_external_scaled is prepared\n",
    "y_external_pred = model.predict(X_external_scaled)\n",
    "\n",
    "y_external = external_df['Home BACK'] \n",
    "# Evaluate the predictions\n",
    "from sklearn.metrics import mean_squared_error, r2_score\n",
    "\n",
    "external_mse = mean_squared_error(y_external, y_external_pred)\n",
    "external_r2 = r2_score(y_external, y_external_pred)\n",
    "\n",
    "print(f\"External MSE: {external_mse}\")\n",
    "print(f\"External R^2 Score: {external_r2}\")\n"
   ]
  },
  {
   "cell_type": "code",
   "execution_count": 39,
   "metadata": {},
   "outputs": [
    {
     "name": "stdout",
     "output_type": "stream",
     "text": [
      "Total Bets Placed: 15906\n",
      "Total Profit/Loss: -118.7000000000002\n"
     ]
    }
   ],
   "source": [
    "# Initializations\n",
    "total_bets_placed = 0\n",
    "total_profit_loss = 0\n",
    "stake = 10  # Define your stake amount; adjust as needed\n",
    "\n",
    "threshold_adjustment_factor = 0.95  # Example factor to slightly lower the threshold\n",
    "\n",
    "for index, row in df.iterrows():\n",
    "    implied_prob = 1 / row['Betfair Odds Home']\n",
    "    model_prob = row['Implied Probability Home Win']  # Replace with your model's probability\n",
    "    \n",
    "    # Adjust the comparison by a factor to test if the condition was too strict\n",
    "    if model_prob > (implied_prob * threshold_adjustment_factor):\n",
    "        total_bets_placed += 1\n",
    "        if row['FT1X2'] == '1':  # Assuming '1' indicates a home win\n",
    "            winnings = (row['Betfair Odds Home'] - 1) * stake\n",
    "            total_profit_loss += winnings\n",
    "        else:\n",
    "            total_profit_loss -= stake\n",
    "\n",
    "print(f\"Total Bets Placed: {total_bets_placed}\")\n",
    "print(f\"Total Profit/Loss: {total_profit_loss}\")\n"
   ]
  },
  {
   "cell_type": "code",
   "execution_count": 40,
   "metadata": {},
   "outputs": [
    {
     "name": "stdout",
     "output_type": "stream",
     "text": [
      "Total Bets Placed: 0\n",
      "Total Profit/Loss: 0\n",
      "No value bets found: 15906\n"
     ]
    }
   ],
   "source": [
    "# Initialize variables for simulation results\n",
    "total_bets_placed = 0\n",
    "total_profit_loss = 0\n",
    "stake = 1  # Fixed stake for each bet\n",
    "\n",
    "# Add diagnostic counters\n",
    "no_value_bets_counter = 0  # Count how many times no value bet is found\n",
    "\n",
    "for index, row in df.iterrows():\n",
    "    # Calculate implied probabilities for each outcome\n",
    "    implied_prob_home = 1 / row['Betfair Odds Home']\n",
    "    implied_prob_draw = 1 / row['Betfair Odds Draw']\n",
    "    implied_prob_away = 1 / row['Betfair OddsAway ']\n",
    "    \n",
    "    # Your model's actual predictions\n",
    "    model_prob_home = row['Implied Probability Home Win']\n",
    "    model_prob_draw = row['Implied Probability Draw']\n",
    "    model_prob_away = row['Implied Probability Away Win']\n",
    "    \n",
    "    # Identify the outcome with the highest value bet\n",
    "    outcomes = [('1', model_prob_home - implied_prob_home, row['Betfair Odds Home']),\n",
    "                ('X', model_prob_draw - implied_prob_draw, row['Betfair Odds Draw']),\n",
    "                ('2', model_prob_away - implied_prob_away, row['Betfair OddsAway '])]\n",
    "    \n",
    "    best_bet = max(outcomes, key=lambda item: item[1])\n",
    "\n",
    "    # Check and place bets\n",
    "    if best_bet[1] > 0:\n",
    "        total_bets_placed += 1\n",
    "        if row['FT1X2'] == best_bet[0]:  # Successful bet\n",
    "            winnings = (best_bet[2] - 1) * stake\n",
    "            total_profit_loss += winnings\n",
    "        else:  # Lost bet\n",
    "            total_profit_loss -= stake\n",
    "    else:\n",
    "        no_value_bets_counter += 1\n",
    "\n",
    "# Diagnostic prints\n",
    "print(f\"Total Bets Placed: {total_bets_placed}\")\n",
    "print(f\"Total Profit/Loss: {total_profit_loss}\")\n",
    "print(f\"No value bets found: {no_value_bets_counter}\")\n"
   ]
  },
  {
   "cell_type": "code",
   "execution_count": 41,
   "metadata": {},
   "outputs": [
    {
     "data": {
      "text/plain": [
       "GridSearchCV(cv=5, estimator=Ridge(),\n",
       "             param_grid={'alpha': [0.1, 1, 10, 100, 1000]}, scoring='r2')"
      ]
     },
     "execution_count": 41,
     "metadata": {},
     "output_type": "execute_result"
    }
   ],
   "source": [
    "model"
   ]
  },
  {
   "cell_type": "code",
   "execution_count": 42,
   "metadata": {},
   "outputs": [
    {
     "name": "stdout",
     "output_type": "stream",
     "text": [
      "Total Profit/Loss: -3060\n"
     ]
    }
   ],
   "source": [
    "def simulate_betting_strategy(predictions, actual_outcomes, odds, threshold=0.5, stake=1):\n",
    "    \"\"\"\n",
    "    Simulate betting strategy based on model predictions.\n",
    "\n",
    "    :param predictions: Model predictions for 'Home BACK'.\n",
    "    :param actual_outcomes: Actual outcomes (1 for home win, 0 otherwise).\n",
    "    :param odds: Betting odds for 'Home BACK'.\n",
    "    :param threshold: Confidence threshold for placing a bet.\n",
    "    :param stake: The amount bet on each game.\n",
    "    :return: Total profit or loss from the betting strategy.\n",
    "    \"\"\"\n",
    "    total_profit = 0\n",
    "    for pred, actual, odd in zip(predictions, actual_outcomes, odds):\n",
    "        if pred > threshold:  # Model is confident in a home win\n",
    "            if actual == 1:  # Home team wins\n",
    "                profit = (odd - 1) * stake  # Winnings minus the staked amount\n",
    "            else:\n",
    "                profit = -stake  # Loss (the staked amount)\n",
    "            total_profit += profit\n",
    "    return total_profit\n",
    "\n",
    "# Assuming you have y_pred (predictions) ready and y_external, odds_home_back for the external dataset\n",
    "# Note: You'll need to adjust or create odds_home_back based on your external data\n",
    "\n",
    "y_external_pred = model.predict(X_external_scaled)  # Ensure this is done\n",
    "y_external = external_df['Home BACK'].values  # Actual outcomes\n",
    "odds_home_back = external_df['Betfair Odds Home'].values  # Adjust based on your column name\n",
    "\n",
    "# Run the simulation\n",
    "profit = simulate_betting_strategy(y_external_pred, y_external, odds_home_back, threshold=0.5, stake=10)\n",
    "print(f\"Total Profit/Loss: {profit}\")\n"
   ]
  },
  {
   "cell_type": "code",
   "execution_count": 43,
   "metadata": {},
   "outputs": [],
   "source": [
    "# Simplified assumption: lower odds = higher probability (not accurate but for demonstration)\n",
    "df['Home Prob'] = 1 / df['Betfair Odds Home']\n",
    "df['Draw Prob'] = 1 / df['Betfair Odds Draw']\n",
    "df['Away Prob'] = 1 / df['Betfair OddsAway ']\n",
    "\n",
    "# Normalize these probabilities so they sum to 1 for each row\n",
    "prob_sum = df['Home Prob'] + df['Draw Prob'] + df['Away Prob']\n",
    "df['Home Prob'] /= prob_sum\n",
    "df['Draw Prob'] /= prob_sum\n",
    "df['Away Prob'] /= prob_sum\n"
   ]
  },
  {
   "cell_type": "code",
   "execution_count": 44,
   "metadata": {},
   "outputs": [],
   "source": [
    "# Encoding actual outcomes\n",
    "# Assuming '1' for home win, 'X' for draw, '2' for away win in 'FT1X2' column\n",
    "df['Actual Outcome'] = df['FT1X2'].map({'1': 1, 'X': 0, '2': -1})\n"
   ]
  },
  {
   "cell_type": "code",
   "execution_count": 45,
   "metadata": {},
   "outputs": [
    {
     "data": {
      "text/plain": [
       "array(['Season', 'Date', 'Time', 'League', 'Home Team', 'Away Team',\n",
       "       'Betfair Odds Home', 'Betfair Odds Draw', 'Betfair OddsAway ',\n",
       "       'FTS Odds Home', 'FTS Odds Draw', 'FTS Odds Away ',\n",
       "       'Home Difference', 'Draw Difference', 'Away Difference',\n",
       "       'HT Score Home', 'HT Score Away', 'FT Score Home', 'FT Score Away',\n",
       "       'FT1X2', 'Home BACK', 'Draw BACK', 'Away BACK', 'Home LAY',\n",
       "       'Draw LAY', 'Away LAY', 'GP', 'W', 'D', 'L', 'Pts', 'Ave', 'GP.1',\n",
       "       'W.1', 'D.1', 'L.1', 'Pts.1', 'Ave.1', 'Colour Index',\n",
       "       'Colour Index.1', 'Home', 'Draw', 'Away', 'Home.1', 'Draw.1',\n",
       "       'Away.1', 'Home  v Draw', 'Home v Away', 'Away v Draw', 'Home.2',\n",
       "       'Draw.2', 'Away.2', 'Home Pinn Diff', 'Draw Pinn Diff',\n",
       "       'Away Pinn Diff', 'Pinn Home BACK', 'Pinn Draw BACK',\n",
       "       'Pinn Away BACK', ' Pinn Home LAY', 'Pinn Draw LAY',\n",
       "       'Pinn Away LAY', 'Year', 'Month', 'Day', 'Weekday',\n",
       "       'Home Team Wins', 'Away Team Wins', 'Implied Probability Home Win',\n",
       "       'Implied Probability Draw', 'Implied Probability Away Win',\n",
       "       'HomeTeamWinStreak', 'AwayTeamWinStreak', 'HomeTeamGoalsScored',\n",
       "       'AwayTeamGoalsScored', 'HomeTeamGoalsConceded',\n",
       "       'AwayTeamGoalsConceded', 'Home Prob', 'Draw Prob', 'Away Prob',\n",
       "       'Actual Outcome'], dtype=object)"
      ]
     },
     "execution_count": 45,
     "metadata": {},
     "output_type": "execute_result"
    }
   ],
   "source": [
    "df.columns.values"
   ]
  },
  {
   "cell_type": "code",
   "execution_count": 46,
   "metadata": {},
   "outputs": [
    {
     "name": "stdout",
     "output_type": "stream",
     "text": [
      "Total Profit/Loss across all outcomes: -68.26999999999974\n"
     ]
    }
   ],
   "source": [
    "def simulate_betting(df, threshold=0.33, stake=1):\n",
    "    total_profit = 0\n",
    "    for _, row in df.iterrows():\n",
    "        # Determine the bet based on the highest probability\n",
    "        max_prob = max(row['Home Prob'], row['Draw Prob'], row['Away Prob'])\n",
    "        bet_outcome = None\n",
    "        if max_prob == row['Home Prob'] and max_prob > threshold:\n",
    "            bet_outcome = 1\n",
    "            bet_odds = row['Betfair Odds Home']\n",
    "        elif max_prob == row['Draw Prob'] and max_prob > threshold:\n",
    "            bet_outcome = 0\n",
    "            bet_odds = row['Betfair Odds Draw']\n",
    "        elif max_prob == row['Away Prob'] and max_prob > threshold:\n",
    "            bet_outcome = -1\n",
    "            bet_odds = row['Betfair OddsAway ']\n",
    "        \n",
    "        # Calculate profit/loss\n",
    "        if bet_outcome is not None:\n",
    "            if bet_outcome == row['Actual Outcome']:\n",
    "                total_profit += (bet_odds - 1) * stake\n",
    "            else:\n",
    "                total_profit -= stake\n",
    "                \n",
    "    return total_profit\n",
    "\n",
    "# Simulate betting across the entire dataset\n",
    "total_profit = simulate_betting(df)\n",
    "print(f\"Total Profit/Loss across all outcomes: {total_profit}\")\n"
   ]
  },
  {
   "cell_type": "code",
   "execution_count": 47,
   "metadata": {},
   "outputs": [],
   "source": [
    "# Placeholder for feature engineering - adjust according to your dataset\n",
    "df['goal_difference'] = df['FT Score Home'] - df['FT Score Away']\n",
    "df['average_goals_scored_home'] = df.groupby('Home Team')['FT Score Home'].transform('mean')\n",
    "df['average_goals_conceded_home'] = df.groupby('Home Team')['FT Score Away'].transform('mean')\n",
    "df['average_goals_scored_away'] = df.groupby('Away Team')['FT Score Away'].transform('mean')\n",
    "df['average_goals_conceded_away'] = df.groupby('Away Team')['FT Score Home'].transform('mean')"
   ]
  },
  {
   "cell_type": "code",
   "execution_count": 48,
   "metadata": {},
   "outputs": [],
   "source": [
    "import numpy as np\n",
    "import pandas as pd\n",
    "from sklearn.preprocessing import StandardScaler\n",
    "\n",
    "# Assuming X is your features DataFrame after all feature engineering steps but before dummy encoding and scaling\n",
    "X.fillna(X.mean(), inplace=True)  # Fill NaN values with the mean of each column\n",
    "\n",
    "# Check for and replace infinity values by the maximum non-infinity value or a specified cap\n",
    "for column in X.columns:\n",
    "    # Replace pos/neg infinity values with NaN\n",
    "    X.replace([np.inf, -np.inf], np.nan, inplace=True)\n",
    "    # Fill NaN values resulted from infinity replacement with the mean of each column\n",
    "    X.fillna(X.mean(), inplace=True)\n",
    "\n",
    "# Now proceed with dummy encoding for categorical variables, if not already done\n",
    "X = pd.get_dummies(X, drop_first=True)\n",
    "\n",
    "# Scaling\n",
    "scaler = StandardScaler()\n",
    "X_scaled = scaler.fit_transform(X)\n",
    "\n",
    "# Check again to ensure no NaN or inf values\n",
    "assert not np.isnan(X_scaled).any(), \"NaN values found after scaling\"\n",
    "assert not np.isinf(X_scaled).any(), \"Inf values found after scaling\"\n"
   ]
  },
  {
   "cell_type": "code",
   "execution_count": 49,
   "metadata": {},
   "outputs": [
    {
     "ename": "NameError",
     "evalue": "name 'y' is not defined",
     "output_type": "error",
     "traceback": [
      "\u001b[1;31m---------------------------------------------------------------------------\u001b[0m",
      "\u001b[1;31mNameError\u001b[0m                                 Traceback (most recent call last)",
      "\u001b[1;32m~\\AppData\\Local\\Temp\\ipykernel_7684\\142033681.py\u001b[0m in \u001b[0;36m<module>\u001b[1;34m\u001b[0m\n\u001b[0;32m      4\u001b[0m \u001b[1;33m\u001b[0m\u001b[0m\n\u001b[0;32m      5\u001b[0m \u001b[1;31m# Splitting the cleaned and scaled dataset\u001b[0m\u001b[1;33m\u001b[0m\u001b[1;33m\u001b[0m\u001b[1;33m\u001b[0m\u001b[0m\n\u001b[1;32m----> 6\u001b[1;33m \u001b[0mX_train\u001b[0m\u001b[1;33m,\u001b[0m \u001b[0mX_test\u001b[0m\u001b[1;33m,\u001b[0m \u001b[0my_train\u001b[0m\u001b[1;33m,\u001b[0m \u001b[0my_test\u001b[0m \u001b[1;33m=\u001b[0m \u001b[0mtrain_test_split\u001b[0m\u001b[1;33m(\u001b[0m\u001b[0mX_scaled\u001b[0m\u001b[1;33m,\u001b[0m \u001b[0my\u001b[0m\u001b[1;33m,\u001b[0m \u001b[0mtest_size\u001b[0m\u001b[1;33m=\u001b[0m\u001b[1;36m0.3\u001b[0m\u001b[1;33m,\u001b[0m \u001b[0mrandom_state\u001b[0m\u001b[1;33m=\u001b[0m\u001b[1;36m42\u001b[0m\u001b[1;33m)\u001b[0m\u001b[1;33m\u001b[0m\u001b[1;33m\u001b[0m\u001b[0m\n\u001b[0m\u001b[0;32m      7\u001b[0m \u001b[1;33m\u001b[0m\u001b[0m\n\u001b[0;32m      8\u001b[0m \u001b[1;31m# Training the model\u001b[0m\u001b[1;33m\u001b[0m\u001b[1;33m\u001b[0m\u001b[1;33m\u001b[0m\u001b[0m\n",
      "\u001b[1;31mNameError\u001b[0m: name 'y' is not defined"
     ]
    }
   ],
   "source": [
    "from sklearn.ensemble import GradientBoostingRegressor\n",
    "from sklearn.model_selection import train_test_split, cross_val_score\n",
    "from sklearn.metrics import mean_squared_error, r2_score\n",
    "\n",
    "# Splitting the cleaned and scaled dataset\n",
    "X_train, X_test, y_train, y_test = train_test_split(X_scaled, y, test_size=0.3, random_state=42)\n",
    "\n",
    "# Training the model\n",
    "model = GradientBoostingRegressor(random_state=42)\n",
    "model.fit(X_train, y_train)\n",
    "\n",
    "# Cross-validation to assess model robustness\n",
    "cv_scores = cross_val_score(model, X_train, y_train, cv=5, scoring='r2')\n",
    "print(f\"Cross-validation R^2 scores: {cv_scores.mean()}\")\n",
    "\n",
    "# Predicting and evaluating on the test set\n",
    "y_pred = model.predict(X_test)\n",
    "print(f\"Test MSE: {mean_squared_error(y_test, y_pred)}\")\n",
    "print(f\"Test R^2: {r2_score(y_test, y_pred)}\")\n"
   ]
  },
  {
   "cell_type": "code",
   "execution_count": 68,
   "metadata": {},
   "outputs": [
    {
     "data": {
      "image/png": "[encoded data removed]",
      "text/plain": [
       "<Figure size 720x576 with 1 Axes>"
      ]
     },
     "metadata": {
      "needs_background": "light"
     },
     "output_type": "display_data"
    }
   ],
   "source": [
    "import matplotlib.pyplot as plt\n",
    "import numpy as np\n",
    "\n",
    "# Assuming 'grid_search' is your GridSearchCV object\n",
    "# Access the best estimator\n",
    "best_model = grid_search.best_estimator_\n",
    "\n",
    "# Now, use 'best_model' to access feature importances\n",
    "feature_importance = best_model.feature_importances_\n",
    "\n",
    "# Assuming X_train is your training feature set before splitting and scaling\n",
    "# If you used pd.get_dummies or similar, ensure to get the feature names correctly\n",
    "feature_names = X.columns\n",
    "\n",
    "# Sort the feature importances in descending order and plot\n",
    "sorted_idx = np.argsort(feature_importance)[::-1]\n",
    "sorted_names = [feature_names[i] for i in sorted_idx]\n",
    "\n",
    "plt.figure(figsize=(10, 8))\n",
    "plt.barh(sorted_names[:20], feature_importance[sorted_idx][:20], align='center')  # Adjust the number to display as needed\n",
    "plt.xlabel(\"Feature Importance\")\n",
    "plt.title(\"Top 20 Important Features in GradientBoostingRegressor Model\")\n",
    "plt.gca().invert_yaxis()  \n",
    "plt.show()\n"
   ]
  },
  {
   "cell_type": "code",
   "execution_count": 51,
   "metadata": {},
   "outputs": [],
   "source": [
    "import pandas as pd\n",
    "import numpy as np\n",
    "\n",
    "# Assuming 'df' is your DataFrame loaded with the data\n",
    "# Here's how you filter based on the provided example criteria\n",
    "\n",
    "def filter_league_matches(df, league, outcome_type, odds_range, diff_range):\n",
    "    \"\"\"\n",
    "    Filter matches based on league, outcome type, odds range, and team performance difference.\n",
    "\n",
    "    :param df: DataFrame containing the match data.\n",
    "    :param league: The league to filter matches from (e.g., 'England').\n",
    "    :param outcome_type: Type of outcome ('Home', 'Draw', 'Away').\n",
    "    :param odds_range: Tuple (min_odds, max_odds) for filtering.\n",
    "    :param diff_range: Tuple (min_diff, max_diff) for filtering based on team difference.\n",
    "    :return: DataFrame with filtered matches.\n",
    "    \"\"\"\n",
    "    # Filter by league\n",
    "    league_df = df[df['League'] == league]\n",
    "    \n",
    "    # Apply odds and difference range filters based on outcome type\n",
    "    if outcome_type == 'Home':\n",
    "        filtered_df = league_df[(league_df['Betfair Odds Home'] >= odds_range[0]) & \n",
    "                                (league_df['Betfair Odds Home'] <= odds_range[1]) &\n",
    "                                (league_df['Home Difference'] >= diff_range[0]) &\n",
    "                                (league_df['Home Difference'] <= diff_range[1])]\n",
    "        \n",
    "    elif outcome_type == 'Draw':\n",
    "        filtered_df = league_df[(league_df['Betfair Odds Draw'] >= odds_range[0]) & \n",
    "                                (league_df['Betfair Odds Draw'] <= odds_range[1]) &\n",
    "                                (league_df['Draw Difference'] >= diff_range[0]) &  # Assuming you have this or similar\n",
    "                                (league_df['Draw Difference'] <= diff_range[1])]   # Adjust according to your criteria\n",
    "\n",
    "    elif outcome_type == 'Away':\n",
    "        filtered_df = league_df[(league_df['Betfair OddsAway '] >= odds_range[0]) & \n",
    "                                (league_df['Betfair OddsAway '] <= odds_range[1]) &\n",
    "                                (league_df['Away Difference'] >= diff_range[0]) &\n",
    "                                (league_df['Away Difference'] <= diff_range[1])]\n",
    "    \n",
    "    return filtered_df\n",
    "\n",
    "# Example usage based on your criteria for England\n",
    "england_home_1 = filter_league_matches(df, 'England', 'Home', (1.41, 1.60), (-2, -6))\n",
    "england_home_2 = filter_league_matches(df, 'England', 'Home', (3.51, 6), (10, 20))\n"
   ]
  },
  {
   "cell_type": "code",
   "execution_count": 52,
   "metadata": {},
   "outputs": [
    {
     "name": "stdout",
     "output_type": "stream",
     "text": [
      "Profit for England Home_1 bets: 0\n"
     ]
    }
   ],
   "source": [
    "def calculate_profit(filtered_df, stake=10):\n",
    "    \"\"\"\n",
    "    Calculate the profit or loss from betting on filtered matches.\n",
    "    \n",
    "    :param filtered_df: DataFrame containing filtered matches based on criteria.\n",
    "    :param stake: The amount of money staked on each bet.\n",
    "    :return: Total profit or loss.\n",
    "    \"\"\"\n",
    "    profit = 0\n",
    "    for index, row in filtered_df.iterrows():\n",
    "        # Assuming a win (1), loss (-1), and draw (0) outcome is determined by 'FT1X2'\n",
    "        actual_outcome = 1 if row['FT1X2'] == '1' else -1 if row['FT1X2'] == '2' else 0\n",
    "        if actual_outcome == 1:  # Home win\n",
    "            profit += (stake * (row['Betfair Odds Home'] - 1))\n",
    "        else:\n",
    "            profit -= stake  # Loss the stake if not a win\n",
    "\n",
    "    return profit\n",
    "\n",
    "# Example calculation for England Home_1 filtered matches\n",
    "profit_england_home_1 = calculate_profit(england_home_1)\n",
    "print(f\"Profit for England Home_1 bets: {profit_england_home_1}\")\n"
   ]
  },
  {
   "cell_type": "code",
   "execution_count": 53,
   "metadata": {},
   "outputs": [],
   "source": [
    "import pandas as pd\n",
    "import numpy as np\n",
    "from sklearn.model_selection import train_test_split\n",
    "from sklearn.preprocessing import StandardScaler\n",
    "\n",
    "# Assuming df is your DataFrame\n",
    "# Convert 'Date' from string to datetime, if not already\n",
    "df['Date'] = pd.to_datetime(df['Date'])\n",
    "\n",
    "# Optionally, encode categorical variables such as 'League', 'Home Team', 'Away Team'\n",
    "df = pd.get_dummies(df, columns=['League', 'Home Team', 'Away Team'])\n",
    "\n",
    "# Feature selection - choose features that are likely to predict match outcomes\n",
    "features = ['Betfair Odds Home', 'Betfair Odds Draw', 'Betfair OddsAway ',\n",
    "            'Home Difference', 'Draw Difference', 'Away Difference',\n",
    "            'Implied Probability Home Win', 'Implied Probability Draw', \n",
    "            'Implied Probability Away Win'] + list(df.filter(regex='League_|Home Team_|Away Team_').columns)\n",
    "\n",
    "# Target variable - here we'll predict 'Home BACK' as an example\n",
    "target = 'Home BACK'\n",
    "\n",
    "# Split the dataset\n",
    "X = df[features]\n",
    "y = df[target]\n",
    "X_train, X_test, y_train, y_test = train_test_split(X, y, test_size=0.3, random_state=42)\n",
    "\n",
    "# Scale features\n",
    "scaler = StandardScaler()\n",
    "X_train_scaled = scaler.fit_transform(X_train)\n",
    "X_test_scaled = scaler.transform(X_test)\n"
   ]
  },
  {
   "cell_type": "code",
   "execution_count": 54,
   "metadata": {},
   "outputs": [],
   "source": [
    "from sklearn.ensemble import GradientBoostingRegressor\n",
    "\n",
    "# Initialize and train the model\n",
    "model = GradientBoostingRegressor(random_state=42)\n",
    "model.fit(X_train_scaled, y_train)\n",
    "\n",
    "# Predictions\n",
    "y_pred = model.predict(X_test_scaled)\n"
   ]
  },
  {
   "cell_type": "code",
   "execution_count": 55,
   "metadata": {},
   "outputs": [
    {
     "name": "stdout",
     "output_type": "stream",
     "text": [
      "Mean Squared Error: 2.026286256461967\n",
      "R^2 Score: -0.04664029789255619\n"
     ]
    }
   ],
   "source": [
    "from sklearn.metrics import mean_squared_error, r2_score\n",
    "\n",
    "# Evaluation\n",
    "mse = mean_squared_error(y_test, y_pred)\n",
    "r2 = r2_score(y_test, y_pred)\n",
    "\n",
    "print(f\"Mean Squared Error: {mse}\")\n",
    "print(f\"R^2 Score: {r2}\")\n"
   ]
  },
  {
   "cell_type": "code",
   "execution_count": 56,
   "metadata": {},
   "outputs": [
    {
     "name": "stdout",
     "output_type": "stream",
     "text": [
      "Best parameters: {'learning_rate': 0.01, 'max_depth': 3, 'n_estimators': 100}\n",
      "Best R2 score: -0.007754584391504249\n",
      "Mean Squared Error (Best Model): 1.9492250854641562\n",
      "R^2 Score (Best Model): -0.00683579015734237\n"
     ]
    }
   ],
   "source": [
    "from sklearn.model_selection import GridSearchCV\n",
    "\n",
    "# Define parameter grid\n",
    "param_grid = {\n",
    "    'n_estimators': [100, 200, 300],\n",
    "    'max_depth': [3, 4, 5],\n",
    "    'learning_rate': [0.01, 0.1, 0.2]\n",
    "}\n",
    "\n",
    "# Initialize the model\n",
    "model = GradientBoostingRegressor(random_state=42)\n",
    "\n",
    "# Initialize GridSearchCV\n",
    "grid_search = GridSearchCV(estimator=model, param_grid=param_grid, cv=5, scoring='r2')\n",
    "\n",
    "# Fit GridSearchCV\n",
    "grid_search.fit(X_train_scaled, y_train)\n",
    "\n",
    "# Best parameters and best score\n",
    "print(\"Best parameters:\", grid_search.best_params_)\n",
    "print(\"Best R2 score:\", grid_search.best_score_)\n",
    "\n",
    "# Use the best estimator for predictions\n",
    "best_model = grid_search.best_estimator_\n",
    "y_pred_best = best_model.predict(X_test_scaled)\n",
    "\n",
    "# Evaluate the best model\n",
    "mse_best = mean_squared_error(y_test, y_pred_best)\n",
    "r2_best = r2_score(y_test, y_pred_best)\n",
    "\n",
    "print(f\"Mean Squared Error (Best Model): {mse_best}\")\n",
    "print(f\"R^2 Score (Best Model): {r2_best}\")\n"
   ]
  },
  {
   "cell_type": "code",
   "execution_count": 57,
   "metadata": {},
   "outputs": [
    {
     "name": "stdout",
     "output_type": "stream",
     "text": [
      "Net Profit from Simulation: -380\n"
     ]
    }
   ],
   "source": [
    "def simulate_betting(y_true, y_pred, odds, stake=10, confidence_threshold=0.5):\n",
    "    total_bets = 0\n",
    "    total_winnings = 0\n",
    "    \n",
    "    # Assume y_pred is the predicted probability of the home team winning\n",
    "    for true, pred, odd in zip(y_true, y_pred, odds):\n",
    "        if pred >= confidence_threshold:\n",
    "            total_bets += stake\n",
    "            if true == 1:  \n",
    "                total_winnings += (stake * odd) - stake\n",
    "            else:\n",
    "                total_winnings -= stake  \n",
    "    \n",
    "    return total_winnings - total_bets  # Net profit\n",
    "\n",
    "\n",
    "odds_test = X_test['Betfair Odds Home'] \n",
    "\n",
    "\n",
    "profit = simulate_betting(y_test, y_pred_best, odds_test, stake=10, confidence_threshold=0.5)\n",
    "print(f\"Net Profit from Simulation: {profit}\")\n"
   ]
  },
  {
   "cell_type": "code",
   "execution_count": 71,
   "metadata": {},
   "outputs": [
    {
     "data": {
      "text/plain": [
       "GradientBoostingRegressor(random_state=42)"
      ]
     },
     "execution_count": 71,
     "metadata": {},
     "output_type": "execute_result"
    }
   ],
   "source": [
    "# Assuming X_train_scaled and y_train are already defined and preprocessed\n",
    "model = GradientBoostingRegressor(random_state=42)\n",
    "model.fit(X_train_scaled, y_train)  # Ensure this step is executed\n"
   ]
  },
  {
   "cell_type": "code",
   "execution_count": 72,
   "metadata": {
    "scrolled": true
   },
   "outputs": [
    {
     "data": {
      "image/png": "[encoded data removed]",
      "text/plain": [
       "<Figure size 720x432 with 1 Axes>"
      ]
     },
     "metadata": {
      "needs_background": "light"
     },
     "output_type": "display_data"
    }
   ],
   "source": [
    "import matplotlib.pyplot as plt\n",
    "import numpy as np\n",
    "\n",
    "# Accessing feature importances only after the model is fitted\n",
    "feature_importances = model.feature_importances_\n",
    "indices = np.argsort(feature_importances)[::-1]\n",
    "\n",
    "# Ensure the correct features names are used\n",
    "# This assumes 'features' variable correctly references the names of the features used for training\n",
    "feature_names = np.array(features)  # Assuming 'features' is a list of your feature names\n",
    "\n",
    "plt.figure(figsize=(10, 6))\n",
    "plt.title(\"Feature Importances\")\n",
    "plt.bar(range(X_train_scaled.shape[1]), feature_importances[indices], align=\"center\")\n",
    "\n",
    "# Use 'feature_names' to get the actual feature names for the x-ticks labels\n",
    "plt.xticks(range(X_train_scaled.shape[1]), feature_names[indices], rotation=90)\n",
    "plt.xlim([-1, X_train_scaled.shape[1]])\n",
    "plt.tight_layout()  # Adjust layout to make room for the rotated x-tick labels\n",
    "plt.show()\n"
   ]
  },
  {
   "cell_type": "code",
   "execution_count": 59,
   "metadata": {},
   "outputs": [
    {
     "data": {
      "text/plain": [
       "GradientBoostingRegressor(random_state=42)"
      ]
     },
     "execution_count": 59,
     "metadata": {},
     "output_type": "execute_result"
    }
   ],
   "source": [
    "from sklearn.preprocessing import PolynomialFeatures\n",
    "\n",
    "# Example: Creating polynomial features\n",
    "poly = PolynomialFeatures(degree=2, interaction_only=True, include_bias=False)\n",
    "X_poly = poly.fit_transform(X_train_scaled)\n",
    "\n",
    "# Names of the new polynomial features\n",
    "poly_features_names = poly.get_feature_names_out(features)\n",
    "\n",
    "# Convert to DataFrame for easier manipulation and understanding\n",
    "X_poly_df = pd.DataFrame(X_poly, columns=poly_features_names)\n",
    "\n",
    "# Fit the model on the new polynomial features\n",
    "model_poly = GradientBoostingRegressor(random_state=42)\n",
    "model_poly.fit(X_poly_df, y_train)\n"
   ]
  },
  {
   "cell_type": "code",
   "execution_count": 63,
   "metadata": {},
   "outputs": [
    {
     "name": "stdout",
     "output_type": "stream",
     "text": [
      "Best parameters (poly features, simplified): {'n_estimators': 100, 'max_depth': 3, 'learning_rate': 0.1}\n",
      "Best R2 score (poly features, simplified): -0.013052314030753612\n"
     ]
    }
   ],
   "source": [
    "from sklearn.model_selection import RandomizedSearchCV\n",
    "\n",
    "# Define a simplified parameter distribution\n",
    "param_dist_poly = {\n",
    "    'n_estimators': [100],  # Reduced number of estimators\n",
    "    'max_depth': [3],  # Reduced max depth\n",
    "    'learning_rate': [0.1]  # Standard learning rate\n",
    "}\n",
    "\n",
    "random_search_poly = RandomizedSearchCV(\n",
    "    estimator=GradientBoostingRegressor(random_state=42),\n",
    "    param_distributions=param_dist_poly,\n",
    "    n_iter=5, cv=3, scoring='r2',\n",
    "    random_state=42,\n",
    "    n_jobs=1  # Limit to 1 to reduce memory usage\n",
    ")\n",
    "\n",
    "\n",
    "# Fit RandomizedSearchCV on the polynomial features\n",
    "random_search_poly.fit(X_poly_df, y_train)\n",
    "\n",
    "# Output the best parameters and score found by RandomizedSearchCV\n",
    "print(\"Best parameters (poly features, simplified):\", random_search_poly.best_params_)\n",
    "print(\"Best R2 score (poly features, simplified):\", random_search_poly.best_score_)\n"
   ]
  },
  {
   "cell_type": "code",
   "execution_count": null,
   "metadata": {},
   "outputs": [],
   "source": []
  },
  {
   "cell_type": "code",
   "execution_count": null,
   "metadata": {},
   "outputs": [],
   "source": []
  },
  {
   "cell_type": "code",
   "execution_count": null,
   "metadata": {},
   "outputs": [],
   "source": []
  },
  {
   "cell_type": "code",
   "execution_count": 65,
   "metadata": {},
   "outputs": [
    {
     "name": "stdout",
     "output_type": "stream",
     "text": [
      "Mean Squared Error (Poly Features, Best Model, Simplified): 2.050672204897956\n",
      "R^2 Score (Poly Features, Best Model, Simplified): -0.05923640382479567\n"
     ]
    }
   ],
   "source": [
    "# Transform test data with the same polynomial features\n",
    "X_test_poly = poly.transform(X_test_scaled)\n",
    "X_test_poly_df = pd.DataFrame(X_test_poly, columns=poly_features_names)\n",
    "\n",
    "# Use the best estimator from the simplified search for predictions on the test set\n",
    "y_pred_poly_best_simplified = random_search_poly.best_estimator_.predict(X_test_poly_df)\n",
    "\n",
    "# Evaluate the best model with simplified parameters\n",
    "mse_poly_best_simplified = mean_squared_error(y_test, y_pred_poly_best_simplified)\n",
    "r2_poly_best_simplified = r2_score(y_test, y_pred_poly_best_simplified)\n",
    "\n",
    "print(f\"Mean Squared Error (Poly Features, Best Model, Simplified): {mse_poly_best_simplified}\")\n",
    "print(f\"R^2 Score (Poly Features, Best Model, Simplified): {r2_poly_best_simplified}\")\n"
   ]
  },
  {
   "cell_type": "code",
   "execution_count": 66,
   "metadata": {},
   "outputs": [
    {
     "name": "stdout",
     "output_type": "stream",
     "text": [
      "Net Profit from Simulation: -870\n"
     ]
    }
   ],
   "source": [
    "# Define the simulation function\n",
    "def simulate_betting(y_true, y_pred, betting_odds, threshold=0.5, stake=10):\n",
    "    \"\"\"\n",
    "    Simulate betting strategy and calculate net profit.\n",
    "    - Bets are placed only if predicted probability is above the threshold.\n",
    "    - Net profit is calculated based on betting odds.\n",
    "    \"\"\"\n",
    "    net_profit = 0\n",
    "    for true, pred, odds in zip(y_true, y_pred, betting_odds):\n",
    "        if pred > threshold:  # Place bet based on model's confidence\n",
    "            if true == 1:  # Win\n",
    "                net_profit += (odds - 1) * stake\n",
    "            else:  # Loss\n",
    "                net_profit -= stake\n",
    "    return net_profit\n",
    "\n",
    "# Ensure betting_odds are appropriately retrieved from your test data\n",
    "betting_odds = X_test_scaled[:, features.index('Betfair Odds Home')]  # Adjust based on actual data structure\n",
    "\n",
    "# Run simulation\n",
    "net_profit = simulate_betting(y_test, y_pred_poly_best_simplified, betting_odds, threshold=0.5, stake=10)\n",
    "print(f\"Net Profit from Simulation: {net_profit}\")\n"
   ]
  },
  {
   "cell_type": "code",
   "execution_count": 67,
   "metadata": {},
   "outputs": [
    {
     "ename": "TerminatedWorkerError",
     "evalue": "A worker process managed by the executor was unexpectedly terminated. This could be caused by a segmentation fault while calling the function or by an excessive memory usage causing the Operating System to kill the worker.\n",
     "output_type": "error",
     "traceback": [
      "\u001b[1;31m---------------------------------------------------------------------------\u001b[0m",
      "\u001b[1;31mTerminatedWorkerError\u001b[0m                     Traceback (most recent call last)",
      "\u001b[1;32m~\\AppData\\Local\\Temp\\ipykernel_7684\\2671940941.py\u001b[0m in \u001b[0;36m<module>\u001b[1;34m\u001b[0m\n\u001b[0;32m     13\u001b[0m \u001b[1;33m\u001b[0m\u001b[0m\n\u001b[0;32m     14\u001b[0m \u001b[1;31m# Fit ensemble model\u001b[0m\u001b[1;33m\u001b[0m\u001b[1;33m\u001b[0m\u001b[1;33m\u001b[0m\u001b[0m\n\u001b[1;32m---> 15\u001b[1;33m \u001b[0mmodel_ensemble\u001b[0m\u001b[1;33m.\u001b[0m\u001b[0mfit\u001b[0m\u001b[1;33m(\u001b[0m\u001b[0mX_train_scaled\u001b[0m\u001b[1;33m,\u001b[0m \u001b[0my_train\u001b[0m\u001b[1;33m)\u001b[0m\u001b[1;33m\u001b[0m\u001b[1;33m\u001b[0m\u001b[0m\n\u001b[0m\u001b[0;32m     16\u001b[0m \u001b[1;33m\u001b[0m\u001b[0m\n\u001b[0;32m     17\u001b[0m \u001b[1;31m# Predictions and evaluation for ensemble model\u001b[0m\u001b[1;33m\u001b[0m\u001b[1;33m\u001b[0m\u001b[1;33m\u001b[0m\u001b[0m\n",
      "\u001b[1;32m~\\anaconda3\\lib\\site-packages\\sklearn\\ensemble\\_voting.py\u001b[0m in \u001b[0;36mfit\u001b[1;34m(self, X, y, sample_weight)\u001b[0m\n\u001b[0;32m    527\u001b[0m         \"\"\"\n\u001b[0;32m    528\u001b[0m         \u001b[0my\u001b[0m \u001b[1;33m=\u001b[0m \u001b[0mcolumn_or_1d\u001b[0m\u001b[1;33m(\u001b[0m\u001b[0my\u001b[0m\u001b[1;33m,\u001b[0m \u001b[0mwarn\u001b[0m\u001b[1;33m=\u001b[0m\u001b[1;32mTrue\u001b[0m\u001b[1;33m)\u001b[0m\u001b[1;33m\u001b[0m\u001b[1;33m\u001b[0m\u001b[0m\n\u001b[1;32m--> 529\u001b[1;33m         \u001b[1;32mreturn\u001b[0m \u001b[0msuper\u001b[0m\u001b[1;33m(\u001b[0m\u001b[1;33m)\u001b[0m\u001b[1;33m.\u001b[0m\u001b[0mfit\u001b[0m\u001b[1;33m(\u001b[0m\u001b[0mX\u001b[0m\u001b[1;33m,\u001b[0m \u001b[0my\u001b[0m\u001b[1;33m,\u001b[0m \u001b[0msample_weight\u001b[0m\u001b[1;33m)\u001b[0m\u001b[1;33m\u001b[0m\u001b[1;33m\u001b[0m\u001b[0m\n\u001b[0m\u001b[0;32m    530\u001b[0m \u001b[1;33m\u001b[0m\u001b[0m\n\u001b[0;32m    531\u001b[0m     \u001b[1;32mdef\u001b[0m \u001b[0mpredict\u001b[0m\u001b[1;33m(\u001b[0m\u001b[0mself\u001b[0m\u001b[1;33m,\u001b[0m \u001b[0mX\u001b[0m\u001b[1;33m)\u001b[0m\u001b[1;33m:\u001b[0m\u001b[1;33m\u001b[0m\u001b[1;33m\u001b[0m\u001b[0m\n",
      "\u001b[1;32m~\\anaconda3\\lib\\site-packages\\sklearn\\ensemble\\_voting.py\u001b[0m in \u001b[0;36mfit\u001b[1;34m(self, X, y, sample_weight)\u001b[0m\n\u001b[0;32m     81\u001b[0m                 \u001b[0mmessage\u001b[0m\u001b[1;33m=\u001b[0m\u001b[0mself\u001b[0m\u001b[1;33m.\u001b[0m\u001b[0m_log_message\u001b[0m\u001b[1;33m(\u001b[0m\u001b[0mnames\u001b[0m\u001b[1;33m[\u001b[0m\u001b[0midx\u001b[0m\u001b[1;33m]\u001b[0m\u001b[1;33m,\u001b[0m \u001b[0midx\u001b[0m \u001b[1;33m+\u001b[0m \u001b[1;36m1\u001b[0m\u001b[1;33m,\u001b[0m \u001b[0mlen\u001b[0m\u001b[1;33m(\u001b[0m\u001b[0mclfs\u001b[0m\u001b[1;33m)\u001b[0m\u001b[1;33m)\u001b[0m\u001b[1;33m,\u001b[0m\u001b[1;33m\u001b[0m\u001b[1;33m\u001b[0m\u001b[0m\n\u001b[0;32m     82\u001b[0m             )\n\u001b[1;32m---> 83\u001b[1;33m             \u001b[1;32mfor\u001b[0m \u001b[0midx\u001b[0m\u001b[1;33m,\u001b[0m \u001b[0mclf\u001b[0m \u001b[1;32min\u001b[0m \u001b[0menumerate\u001b[0m\u001b[1;33m(\u001b[0m\u001b[0mclfs\u001b[0m\u001b[1;33m)\u001b[0m\u001b[1;33m\u001b[0m\u001b[1;33m\u001b[0m\u001b[0m\n\u001b[0m\u001b[0;32m     84\u001b[0m             \u001b[1;32mif\u001b[0m \u001b[0mclf\u001b[0m \u001b[1;33m!=\u001b[0m \u001b[1;34m\"drop\"\u001b[0m\u001b[1;33m\u001b[0m\u001b[1;33m\u001b[0m\u001b[0m\n\u001b[0;32m     85\u001b[0m         )\n",
      "\u001b[1;32m~\\anaconda3\\lib\\site-packages\\joblib\\parallel.py\u001b[0m in \u001b[0;36m__call__\u001b[1;34m(self, iterable)\u001b[0m\n\u001b[0;32m   1950\u001b[0m         \u001b[0mnext\u001b[0m\u001b[1;33m(\u001b[0m\u001b[0moutput\u001b[0m\u001b[1;33m)\u001b[0m\u001b[1;33m\u001b[0m\u001b[1;33m\u001b[0m\u001b[0m\n\u001b[0;32m   1951\u001b[0m \u001b[1;33m\u001b[0m\u001b[0m\n\u001b[1;32m-> 1952\u001b[1;33m         \u001b[1;32mreturn\u001b[0m \u001b[0moutput\u001b[0m \u001b[1;32mif\u001b[0m \u001b[0mself\u001b[0m\u001b[1;33m.\u001b[0m\u001b[0mreturn_generator\u001b[0m \u001b[1;32melse\u001b[0m \u001b[0mlist\u001b[0m\u001b[1;33m(\u001b[0m\u001b[0moutput\u001b[0m\u001b[1;33m)\u001b[0m\u001b[1;33m\u001b[0m\u001b[1;33m\u001b[0m\u001b[0m\n\u001b[0m\u001b[0;32m   1953\u001b[0m \u001b[1;33m\u001b[0m\u001b[0m\n\u001b[0;32m   1954\u001b[0m     \u001b[1;32mdef\u001b[0m \u001b[0m__repr__\u001b[0m\u001b[1;33m(\u001b[0m\u001b[0mself\u001b[0m\u001b[1;33m)\u001b[0m\u001b[1;33m:\u001b[0m\u001b[1;33m\u001b[0m\u001b[1;33m\u001b[0m\u001b[0m\n",
      "\u001b[1;32m~\\anaconda3\\lib\\site-packages\\joblib\\parallel.py\u001b[0m in \u001b[0;36m_get_outputs\u001b[1;34m(self, iterator, pre_dispatch)\u001b[0m\n\u001b[0;32m   1593\u001b[0m \u001b[1;33m\u001b[0m\u001b[0m\n\u001b[0;32m   1594\u001b[0m             \u001b[1;32mwith\u001b[0m \u001b[0mself\u001b[0m\u001b[1;33m.\u001b[0m\u001b[0m_backend\u001b[0m\u001b[1;33m.\u001b[0m\u001b[0mretrieval_context\u001b[0m\u001b[1;33m(\u001b[0m\u001b[1;33m)\u001b[0m\u001b[1;33m:\u001b[0m\u001b[1;33m\u001b[0m\u001b[1;33m\u001b[0m\u001b[0m\n\u001b[1;32m-> 1595\u001b[1;33m                 \u001b[1;32myield\u001b[0m \u001b[1;32mfrom\u001b[0m \u001b[0mself\u001b[0m\u001b[1;33m.\u001b[0m\u001b[0m_retrieve\u001b[0m\u001b[1;33m(\u001b[0m\u001b[1;33m)\u001b[0m\u001b[1;33m\u001b[0m\u001b[1;33m\u001b[0m\u001b[0m\n\u001b[0m\u001b[0;32m   1596\u001b[0m \u001b[1;33m\u001b[0m\u001b[0m\n\u001b[0;32m   1597\u001b[0m         \u001b[1;32mexcept\u001b[0m \u001b[0mGeneratorExit\u001b[0m\u001b[1;33m:\u001b[0m\u001b[1;33m\u001b[0m\u001b[1;33m\u001b[0m\u001b[0m\n",
      "\u001b[1;32m~\\anaconda3\\lib\\site-packages\\joblib\\parallel.py\u001b[0m in \u001b[0;36m_retrieve\u001b[1;34m(self)\u001b[0m\n\u001b[0;32m   1697\u001b[0m             \u001b[1;31m# worker traceback.\u001b[0m\u001b[1;33m\u001b[0m\u001b[1;33m\u001b[0m\u001b[1;33m\u001b[0m\u001b[0m\n\u001b[0;32m   1698\u001b[0m             \u001b[1;32mif\u001b[0m \u001b[0mself\u001b[0m\u001b[1;33m.\u001b[0m\u001b[0m_aborting\u001b[0m\u001b[1;33m:\u001b[0m\u001b[1;33m\u001b[0m\u001b[1;33m\u001b[0m\u001b[0m\n\u001b[1;32m-> 1699\u001b[1;33m                 \u001b[0mself\u001b[0m\u001b[1;33m.\u001b[0m\u001b[0m_raise_error_fast\u001b[0m\u001b[1;33m(\u001b[0m\u001b[1;33m)\u001b[0m\u001b[1;33m\u001b[0m\u001b[1;33m\u001b[0m\u001b[0m\n\u001b[0m\u001b[0;32m   1700\u001b[0m                 \u001b[1;32mbreak\u001b[0m\u001b[1;33m\u001b[0m\u001b[1;33m\u001b[0m\u001b[0m\n\u001b[0;32m   1701\u001b[0m \u001b[1;33m\u001b[0m\u001b[0m\n",
      "\u001b[1;32m~\\anaconda3\\lib\\site-packages\\joblib\\parallel.py\u001b[0m in \u001b[0;36m_raise_error_fast\u001b[1;34m(self)\u001b[0m\n\u001b[0;32m   1732\u001b[0m         \u001b[1;31m# called directly or if the generator is gc'ed.\u001b[0m\u001b[1;33m\u001b[0m\u001b[1;33m\u001b[0m\u001b[1;33m\u001b[0m\u001b[0m\n\u001b[0;32m   1733\u001b[0m         \u001b[1;32mif\u001b[0m \u001b[0merror_job\u001b[0m \u001b[1;32mis\u001b[0m \u001b[1;32mnot\u001b[0m \u001b[1;32mNone\u001b[0m\u001b[1;33m:\u001b[0m\u001b[1;33m\u001b[0m\u001b[1;33m\u001b[0m\u001b[0m\n\u001b[1;32m-> 1734\u001b[1;33m             \u001b[0merror_job\u001b[0m\u001b[1;33m.\u001b[0m\u001b[0mget_result\u001b[0m\u001b[1;33m(\u001b[0m\u001b[0mself\u001b[0m\u001b[1;33m.\u001b[0m\u001b[0mtimeout\u001b[0m\u001b[1;33m)\u001b[0m\u001b[1;33m\u001b[0m\u001b[1;33m\u001b[0m\u001b[0m\n\u001b[0m\u001b[0;32m   1735\u001b[0m \u001b[1;33m\u001b[0m\u001b[0m\n\u001b[0;32m   1736\u001b[0m     \u001b[1;32mdef\u001b[0m \u001b[0m_warn_exit_early\u001b[0m\u001b[1;33m(\u001b[0m\u001b[0mself\u001b[0m\u001b[1;33m)\u001b[0m\u001b[1;33m:\u001b[0m\u001b[1;33m\u001b[0m\u001b[1;33m\u001b[0m\u001b[0m\n",
      "\u001b[1;32m~\\anaconda3\\lib\\site-packages\\joblib\\parallel.py\u001b[0m in \u001b[0;36mget_result\u001b[1;34m(self, timeout)\u001b[0m\n\u001b[0;32m    734\u001b[0m             \u001b[1;31m# callback thread, and is stored internally. It's just waiting to\u001b[0m\u001b[1;33m\u001b[0m\u001b[1;33m\u001b[0m\u001b[1;33m\u001b[0m\u001b[0m\n\u001b[0;32m    735\u001b[0m             \u001b[1;31m# be returned.\u001b[0m\u001b[1;33m\u001b[0m\u001b[1;33m\u001b[0m\u001b[1;33m\u001b[0m\u001b[0m\n\u001b[1;32m--> 736\u001b[1;33m             \u001b[1;32mreturn\u001b[0m \u001b[0mself\u001b[0m\u001b[1;33m.\u001b[0m\u001b[0m_return_or_raise\u001b[0m\u001b[1;33m(\u001b[0m\u001b[1;33m)\u001b[0m\u001b[1;33m\u001b[0m\u001b[1;33m\u001b[0m\u001b[0m\n\u001b[0m\u001b[0;32m    737\u001b[0m \u001b[1;33m\u001b[0m\u001b[0m\n\u001b[0;32m    738\u001b[0m         \u001b[1;31m# For other backends, the main thread needs to run the retrieval step.\u001b[0m\u001b[1;33m\u001b[0m\u001b[1;33m\u001b[0m\u001b[1;33m\u001b[0m\u001b[0m\n",
      "\u001b[1;32m~\\anaconda3\\lib\\site-packages\\joblib\\parallel.py\u001b[0m in \u001b[0;36m_return_or_raise\u001b[1;34m(self)\u001b[0m\n\u001b[0;32m    752\u001b[0m         \u001b[1;32mtry\u001b[0m\u001b[1;33m:\u001b[0m\u001b[1;33m\u001b[0m\u001b[1;33m\u001b[0m\u001b[0m\n\u001b[0;32m    753\u001b[0m             \u001b[1;32mif\u001b[0m \u001b[0mself\u001b[0m\u001b[1;33m.\u001b[0m\u001b[0mstatus\u001b[0m \u001b[1;33m==\u001b[0m \u001b[0mTASK_ERROR\u001b[0m\u001b[1;33m:\u001b[0m\u001b[1;33m\u001b[0m\u001b[1;33m\u001b[0m\u001b[0m\n\u001b[1;32m--> 754\u001b[1;33m                 \u001b[1;32mraise\u001b[0m \u001b[0mself\u001b[0m\u001b[1;33m.\u001b[0m\u001b[0m_result\u001b[0m\u001b[1;33m\u001b[0m\u001b[1;33m\u001b[0m\u001b[0m\n\u001b[0m\u001b[0;32m    755\u001b[0m             \u001b[1;32mreturn\u001b[0m \u001b[0mself\u001b[0m\u001b[1;33m.\u001b[0m\u001b[0m_result\u001b[0m\u001b[1;33m\u001b[0m\u001b[1;33m\u001b[0m\u001b[0m\n\u001b[0;32m    756\u001b[0m         \u001b[1;32mfinally\u001b[0m\u001b[1;33m:\u001b[0m\u001b[1;33m\u001b[0m\u001b[1;33m\u001b[0m\u001b[0m\n",
      "\u001b[1;31mTerminatedWorkerError\u001b[0m: A worker process managed by the executor was unexpectedly terminated. This could be caused by a segmentation fault while calling the function or by an excessive memory usage causing the Operating System to kill the worker.\n"
     ]
    }
   ],
   "source": [
    "# Potential next steps in code - Example of ensemble method\n",
    "\n",
    "from sklearn.ensemble import VotingRegressor\n",
    "from sklearn.linear_model import LinearRegression\n",
    "from sklearn.tree import DecisionTreeRegressor\n",
    "\n",
    "# Define base models\n",
    "model_lr = LinearRegression()\n",
    "model_dt = DecisionTreeRegressor(max_depth=5)\n",
    "\n",
    "# Define ensemble model\n",
    "model_ensemble = VotingRegressor(estimators=[('lr', model_lr), ('dt', model_dt), ('gb', model)], n_jobs=-1)\n",
    "\n",
    "# Fit ensemble model\n",
    "model_ensemble.fit(X_train_scaled, y_train)\n",
    "\n",
    "# Predictions and evaluation for ensemble model\n",
    "y_pred_ensemble = model_ensemble.predict(X_test_scaled)\n",
    "\n",
    "mse_ensemble = mean_squared_error(y_test, y_pred_ensemble)\n",
    "r2_ensemble = r2_score(y_test, y_pred_ensemble)\n",
    "\n",
    "print(f\"MSE (Ensemble): {mse_ensemble}\")\n",
    "print(f\"R^2 (Ensemble): {r2_ensemble}\")\n",
    "\n",
    "# Adapt the betting simulation function call as needed\n"
   ]
  }
 ],
 "metadata": {
  "kernelspec": {
   "display_name": "Python 3 (ipykernel)",
   "language": "python",
   "name": "python3"
  },
  "language_info": {
   "codemirror_mode": {
    "name": "ipython",
    "version": 3
   },
   "file_extension": ".py",
   "mimetype": "text/x-python",
   "name": "python",
   "nbconvert_exporter": "python",
   "pygments_lexer": "ipython3",
   "version": "3.7.6"
  }
 },
 "nbformat": 4,
 "nbformat_minor": 4
}
